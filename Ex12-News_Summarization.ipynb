{
 "cells": [
  {
   "cell_type": "markdown",
   "id": "2665dc83",
   "metadata": {},
   "source": [
    "# AIFFEL Ex12. 프로젝트: 뉴스기사 요약해보기"
   ]
  },
  {
   "cell_type": "markdown",
   "id": "0cd37385",
   "metadata": {},
   "source": [
    "## Step 0. 환경설정 및 리이브러리 Import"
   ]
  },
  {
   "cell_type": "code",
   "execution_count": 1,
   "id": "44ac8ba7",
   "metadata": {},
   "outputs": [
    {
     "name": "stdout",
     "output_type": "stream",
     "text": [
      "3.6.5\n",
      "2.6.0\n",
      "1.2.0\n"
     ]
    }
   ],
   "source": [
    "import re\n",
    "import requests\n",
    "\n",
    "import nltk\n",
    "from nltk.corpus import stopwords\n",
    "\n",
    "import tensorflow\n",
    "from tensorflow.keras.preprocessing.text import Tokenizer \n",
    "from tensorflow.keras.preprocessing.sequence import pad_sequences\n",
    "from tensorflow.keras.layers import Input, LSTM, Embedding, Dense, Concatenate, TimeDistributed\n",
    "from tensorflow.keras.layers import AdditiveAttention\n",
    "from tensorflow.keras.models import Model\n",
    "from tensorflow.keras.callbacks import EarlyStopping, ModelCheckpoint\n",
    "\n",
    "import numpy as np\n",
    "import pandas as pd\n",
    "import matplotlib.pyplot as plt\n",
    "\n",
    "from bs4 import BeautifulSoup \n",
    "from importlib.metadata import version\n",
    "\n",
    "print(nltk.__version__)\n",
    "print(tensorflow.__version__)\n",
    "print(version('summa'))"
   ]
  },
  {
   "cell_type": "markdown",
   "id": "943a1001",
   "metadata": {},
   "source": [
    "## Step 1. 데이터 수집하기"
   ]
  },
  {
   "cell_type": "code",
   "execution_count": 2,
   "id": "8a4ff350",
   "metadata": {},
   "outputs": [
    {
     "name": "stdout",
     "output_type": "stream",
     "text": [
      "전체 샘플수 : 98401\n"
     ]
    }
   ],
   "source": [
    "import urllib.request\n",
    "\n",
    "urllib.request.urlretrieve(\"https://raw.githubusercontent.com/sunnysai12345/News_Summary/master/news_summary_more.csv\", filename=\"news_summary_more.csv\")\n",
    "data = pd.read_csv('news_summary_more.csv', encoding='iso-8859-1')\n",
    "print('전체 샘플수 :', (len(data)))"
   ]
  },
  {
   "cell_type": "code",
   "execution_count": 3,
   "id": "95f24cb9",
   "metadata": {},
   "outputs": [
    {
     "data": {
      "text/html": [
       "<div>\n",
       "<style scoped>\n",
       "    .dataframe tbody tr th:only-of-type {\n",
       "        vertical-align: middle;\n",
       "    }\n",
       "\n",
       "    .dataframe tbody tr th {\n",
       "        vertical-align: top;\n",
       "    }\n",
       "\n",
       "    .dataframe thead th {\n",
       "        text-align: right;\n",
       "    }\n",
       "</style>\n",
       "<table border=\"1\" class=\"dataframe\">\n",
       "  <thead>\n",
       "    <tr style=\"text-align: right;\">\n",
       "      <th></th>\n",
       "      <th>headlines</th>\n",
       "      <th>text</th>\n",
       "    </tr>\n",
       "  </thead>\n",
       "  <tbody>\n",
       "    <tr>\n",
       "      <th>52653</th>\n",
       "      <td>Balkans' history more interesting than GoT: Eu...</td>\n",
       "      <td>The history of the Balkans is more dramatic an...</td>\n",
       "    </tr>\n",
       "    <tr>\n",
       "      <th>61491</th>\n",
       "      <td>'Ball of the Century' like delivery bowled in ...</td>\n",
       "      <td>Australian women's team spinner Amanda-Jade We...</td>\n",
       "    </tr>\n",
       "    <tr>\n",
       "      <th>37099</th>\n",
       "      <td>World's smallest computer smaller than a grain...</td>\n",
       "      <td>University of Michigan has regained the title ...</td>\n",
       "    </tr>\n",
       "    <tr>\n",
       "      <th>64441</th>\n",
       "      <td>Taj Mahal should be renamed to Taj Mandir: BJP MP</td>\n",
       "      <td>BJP MP Vinay Katiyar on Tuesday said the Taj M...</td>\n",
       "    </tr>\n",
       "    <tr>\n",
       "      <th>41158</th>\n",
       "      <td>7 Indians among 15 killed in Kuwait bus collision</td>\n",
       "      <td>Seven Indians were among the 15 killed on Mond...</td>\n",
       "    </tr>\n",
       "    <tr>\n",
       "      <th>63616</th>\n",
       "      <td>Nobel Laureate Satyarthi real-life hero like B...</td>\n",
       "      <td>Boman Irani, who will portray Nobel Laureate K...</td>\n",
       "    </tr>\n",
       "    <tr>\n",
       "      <th>47609</th>\n",
       "      <td>I was dropped despite good performance: Suresh...</td>\n",
       "      <td>Indian batsman Suresh Raina said that he was '...</td>\n",
       "    </tr>\n",
       "    <tr>\n",
       "      <th>95777</th>\n",
       "      <td>No blackening face, murga pose: UP govt to ant...</td>\n",
       "      <td>The Uttar Pradesh Police was on Friday directe...</td>\n",
       "    </tr>\n",
       "    <tr>\n",
       "      <th>55378</th>\n",
       "      <td>I place 2G verdict at your feet: A Raja writes...</td>\n",
       "      <td>After a CBI court acquitted former Telecom Min...</td>\n",
       "    </tr>\n",
       "    <tr>\n",
       "      <th>86198</th>\n",
       "      <td>Azim Premji denies sale of Wipro, calls news r...</td>\n",
       "      <td>Wipro Chairman Azim Premji has denied reports ...</td>\n",
       "    </tr>\n",
       "  </tbody>\n",
       "</table>\n",
       "</div>"
      ],
      "text/plain": [
       "                                               headlines  \\\n",
       "52653  Balkans' history more interesting than GoT: Eu...   \n",
       "61491  'Ball of the Century' like delivery bowled in ...   \n",
       "37099  World's smallest computer smaller than a grain...   \n",
       "64441  Taj Mahal should be renamed to Taj Mandir: BJP MP   \n",
       "41158  7 Indians among 15 killed in Kuwait bus collision   \n",
       "63616  Nobel Laureate Satyarthi real-life hero like B...   \n",
       "47609  I was dropped despite good performance: Suresh...   \n",
       "95777  No blackening face, murga pose: UP govt to ant...   \n",
       "55378  I place 2G verdict at your feet: A Raja writes...   \n",
       "86198  Azim Premji denies sale of Wipro, calls news r...   \n",
       "\n",
       "                                                    text  \n",
       "52653  The history of the Balkans is more dramatic an...  \n",
       "61491  Australian women's team spinner Amanda-Jade We...  \n",
       "37099  University of Michigan has regained the title ...  \n",
       "64441  BJP MP Vinay Katiyar on Tuesday said the Taj M...  \n",
       "41158  Seven Indians were among the 15 killed on Mond...  \n",
       "63616  Boman Irani, who will portray Nobel Laureate K...  \n",
       "47609  Indian batsman Suresh Raina said that he was '...  \n",
       "95777  The Uttar Pradesh Police was on Friday directe...  \n",
       "55378  After a CBI court acquitted former Telecom Min...  \n",
       "86198  Wipro Chairman Azim Premji has denied reports ...  "
      ]
     },
     "execution_count": 3,
     "metadata": {},
     "output_type": "execute_result"
    }
   ],
   "source": [
    "data.sample(10)"
   ]
  },
  {
   "cell_type": "markdown",
   "id": "a5371002",
   "metadata": {},
   "source": [
    "## Step 2. 데이터 전처리하기 (추상적 요약)"
   ]
  },
  {
   "cell_type": "markdown",
   "id": "264cd233",
   "metadata": {},
   "source": [
    "### 2-1. 데이터 정리하기"
   ]
  },
  {
   "cell_type": "code",
   "execution_count": 4,
   "id": "8e32afd9",
   "metadata": {},
   "outputs": [
    {
     "name": "stdout",
     "output_type": "stream",
     "text": [
      "headlines 열에서 중복을 배제한 유일한 샘플의 수 : 98280\n",
      "text 열에서 중복을 배제한 유일한 샘플의 수 : 98360\n"
     ]
    }
   ],
   "source": [
    "print('headlines 열에서 중복을 배제한 유일한 샘플의 수 :', data['headlines'].nunique())\n",
    "print('text 열에서 중복을 배제한 유일한 샘플의 수 :', data['text'].nunique())"
   ]
  },
  {
   "cell_type": "code",
   "execution_count": 5,
   "id": "b669e376",
   "metadata": {},
   "outputs": [
    {
     "name": "stdout",
     "output_type": "stream",
     "text": [
      "전체 샘플수 : 98360\n"
     ]
    }
   ],
   "source": [
    "# inplace=True 를 설정하면 DataFrame 타입 값을 return 하지 않고 data 내부를 직접적으로 바꿉니다\n",
    "data.drop_duplicates(subset = ['text'], inplace=True)\n",
    "print('전체 샘플수 :', (len(data)))"
   ]
  },
  {
   "cell_type": "code",
   "execution_count": 6,
   "id": "de01728e",
   "metadata": {},
   "outputs": [
    {
     "name": "stdout",
     "output_type": "stream",
     "text": [
      "headlines    0\n",
      "text         0\n",
      "dtype: int64\n"
     ]
    }
   ],
   "source": [
    "print(data.isnull().sum())"
   ]
  },
  {
   "cell_type": "code",
   "execution_count": 7,
   "id": "9095a8fc",
   "metadata": {},
   "outputs": [
    {
     "name": "stdout",
     "output_type": "stream",
     "text": [
      "정규화 사전의 수:  120\n"
     ]
    }
   ],
   "source": [
    "# 정규화 사전\n",
    "contractions = {\"ain't\": \"is not\", \"aren't\": \"are not\",\"can't\": \"cannot\", \"'cause\": \"because\", \"could've\": \"could have\", \"couldn't\": \"could not\",\n",
    "                           \"didn't\": \"did not\",  \"doesn't\": \"does not\", \"don't\": \"do not\", \"hadn't\": \"had not\", \"hasn't\": \"has not\", \"haven't\": \"have not\",\n",
    "                           \"he'd\": \"he would\",\"he'll\": \"he will\", \"he's\": \"he is\", \"how'd\": \"how did\", \"how'd'y\": \"how do you\", \"how'll\": \"how will\", \"how's\": \"how is\",\n",
    "                           \"I'd\": \"I would\", \"I'd've\": \"I would have\", \"I'll\": \"I will\", \"I'll've\": \"I will have\",\"I'm\": \"I am\", \"I've\": \"I have\", \"i'd\": \"i would\",\n",
    "                           \"i'd've\": \"i would have\", \"i'll\": \"i will\",  \"i'll've\": \"i will have\",\"i'm\": \"i am\", \"i've\": \"i have\", \"isn't\": \"is not\", \"it'd\": \"it would\",\n",
    "                           \"it'd've\": \"it would have\", \"it'll\": \"it will\", \"it'll've\": \"it will have\",\"it's\": \"it is\", \"let's\": \"let us\", \"ma'am\": \"madam\",\n",
    "                           \"mayn't\": \"may not\", \"might've\": \"might have\",\"mightn't\": \"might not\",\"mightn't've\": \"might not have\", \"must've\": \"must have\",\n",
    "                           \"mustn't\": \"must not\", \"mustn't've\": \"must not have\", \"needn't\": \"need not\", \"needn't've\": \"need not have\",\"o'clock\": \"of the clock\",\n",
    "                           \"oughtn't\": \"ought not\", \"oughtn't've\": \"ought not have\", \"shan't\": \"shall not\", \"sha'n't\": \"shall not\", \"shan't've\": \"shall not have\",\n",
    "                           \"she'd\": \"she would\", \"she'd've\": \"she would have\", \"she'll\": \"she will\", \"she'll've\": \"she will have\", \"she's\": \"she is\",\n",
    "                           \"should've\": \"should have\", \"shouldn't\": \"should not\", \"shouldn't've\": \"should not have\", \"so've\": \"so have\",\"so's\": \"so as\",\n",
    "                           \"this's\": \"this is\",\"that'd\": \"that would\", \"that'd've\": \"that would have\", \"that's\": \"that is\", \"there'd\": \"there would\",\n",
    "                           \"there'd've\": \"there would have\", \"there's\": \"there is\", \"here's\": \"here is\",\"they'd\": \"they would\", \"they'd've\": \"they would have\",\n",
    "                           \"they'll\": \"they will\", \"they'll've\": \"they will have\", \"they're\": \"they are\", \"they've\": \"they have\", \"to've\": \"to have\",\n",
    "                           \"wasn't\": \"was not\", \"we'd\": \"we would\", \"we'd've\": \"we would have\", \"we'll\": \"we will\", \"we'll've\": \"we will have\", \"we're\": \"we are\",\n",
    "                           \"we've\": \"we have\", \"weren't\": \"were not\", \"what'll\": \"what will\", \"what'll've\": \"what will have\", \"what're\": \"what are\",\n",
    "                           \"what's\": \"what is\", \"what've\": \"what have\", \"when's\": \"when is\", \"when've\": \"when have\", \"where'd\": \"where did\", \"where's\": \"where is\",\n",
    "                           \"where've\": \"where have\", \"who'll\": \"who will\", \"who'll've\": \"who will have\", \"who's\": \"who is\", \"who've\": \"who have\",\n",
    "                           \"why's\": \"why is\", \"why've\": \"why have\", \"will've\": \"will have\", \"won't\": \"will not\", \"won't've\": \"will not have\",\n",
    "                           \"would've\": \"would have\", \"wouldn't\": \"would not\", \"wouldn't've\": \"would not have\", \"y'all\": \"you all\",\n",
    "                           \"y'all'd\": \"you all would\",\"y'all'd've\": \"you all would have\",\"y'all're\": \"you all are\",\"y'all've\": \"you all have\",\n",
    "                           \"you'd\": \"you would\", \"you'd've\": \"you would have\", \"you'll\": \"you will\", \"you'll've\": \"you will have\",\n",
    "                           \"you're\": \"you are\", \"you've\": \"you have\"}\n",
    "print(\"정규화 사전의 수: \", len(contractions))"
   ]
  },
  {
   "cell_type": "code",
   "execution_count": 8,
   "id": "3966de67",
   "metadata": {},
   "outputs": [
    {
     "name": "stdout",
     "output_type": "stream",
     "text": [
      "불용어 개수 : 179\n",
      "['i', 'me', 'my', 'myself', 'we', 'our', 'ours', 'ourselves', 'you', \"you're\", \"you've\", \"you'll\", \"you'd\", 'your', 'yours', 'yourself', 'yourselves', 'he', 'him', 'his', 'himself', 'she', \"she's\", 'her', 'hers', 'herself', 'it', \"it's\", 'its', 'itself', 'they', 'them', 'their', 'theirs', 'themselves', 'what', 'which', 'who', 'whom', 'this', 'that', \"that'll\", 'these', 'those', 'am', 'is', 'are', 'was', 'were', 'be', 'been', 'being', 'have', 'has', 'had', 'having', 'do', 'does', 'did', 'doing', 'a', 'an', 'the', 'and', 'but', 'if', 'or', 'because', 'as', 'until', 'while', 'of', 'at', 'by', 'for', 'with', 'about', 'against', 'between', 'into', 'through', 'during', 'before', 'after', 'above', 'below', 'to', 'from', 'up', 'down', 'in', 'out', 'on', 'off', 'over', 'under', 'again', 'further', 'then', 'once', 'here', 'there', 'when', 'where', 'why', 'how', 'all', 'any', 'both', 'each', 'few', 'more', 'most', 'other', 'some', 'such', 'no', 'nor', 'not', 'only', 'own', 'same', 'so', 'than', 'too', 'very', 's', 't', 'can', 'will', 'just', 'don', \"don't\", 'should', \"should've\", 'now', 'd', 'll', 'm', 'o', 're', 've', 'y', 'ain', 'aren', \"aren't\", 'couldn', \"couldn't\", 'didn', \"didn't\", 'doesn', \"doesn't\", 'hadn', \"hadn't\", 'hasn', \"hasn't\", 'haven', \"haven't\", 'isn', \"isn't\", 'ma', 'mightn', \"mightn't\", 'mustn', \"mustn't\", 'needn', \"needn't\", 'shan', \"shan't\", 'shouldn', \"shouldn't\", 'wasn', \"wasn't\", 'weren', \"weren't\", 'won', \"won't\", 'wouldn', \"wouldn't\"]\n"
     ]
    },
    {
     "name": "stderr",
     "output_type": "stream",
     "text": [
      "[nltk_data] Downloading package stopwords to /aiffel/nltk_data...\n",
      "[nltk_data]   Package stopwords is already up-to-date!\n"
     ]
    }
   ],
   "source": [
    "nltk.download('stopwords')\n",
    "\n",
    "print('불용어 개수 :', len(stopwords.words('english') ))\n",
    "print(stopwords.words('english'))"
   ]
  },
  {
   "cell_type": "code",
   "execution_count": 9,
   "id": "a44a89fe",
   "metadata": {},
   "outputs": [],
   "source": [
    "# 데이터 전처리 함수\n",
    "def preprocess_sentence(sentence, remove_stopwords=True):\n",
    "    sentence = sentence.lower()  # 텍스트 소문자화\n",
    "    sentence = BeautifulSoup(sentence, \"lxml\").text  # <br />, <a href = ...> 등의 html 태그 제거\n",
    "    sentence = re.sub(r'\\([^)]*\\)', '', sentence)  # 괄호로 닫힌 문자열 (...) 제거 Ex) my husband (and myself!) for => my husband for\n",
    "    sentence = re.sub('\"','', sentence)  # 쌍따옴표 \" 제거\n",
    "    sentence = ' '.join([contractions[t] if t in contractions else t for t in sentence.split(\" \")])  # 약어 정규화\n",
    "    sentence = re.sub(r\"'s\\b\",\"\", sentence)  # 소유격 제거. Ex) roland's -> roland\n",
    "    sentence = re.sub(\"[^a-zA-Z]\", \" \", sentence)  # 영어 외 문자(숫자, 특수문자 등) 공백으로 변환\n",
    "    sentence = re.sub('[m]{2,}', 'mm', sentence)  # m이 3개 이상이면 2개로 변경. Ex) ummmmmmm yeah -> umm yeah\n",
    "    \n",
    "    # 불용어 제거 (text)\n",
    "    if remove_stopwords:\n",
    "        tokens = ' '.join(word for word in sentence.split() if not word in stopwords.words('english') if len(word) > 1)\n",
    "    # 불용어 미제거 (headline)\n",
    "    else:\n",
    "        tokens = ' '.join(word for word in sentence.split() if len(word) > 1)\n",
    "    return tokens"
   ]
  },
  {
   "cell_type": "code",
   "execution_count": 10,
   "id": "3941a488",
   "metadata": {},
   "outputs": [
    {
     "name": "stdout",
     "output_type": "stream",
     "text": [
      "text 전처리 후 결과:  ['saurav kant alumnus upgrad iiit pg program machine learning artificial intelligence sr systems engineer infosys almost years work experience program upgrad degree career support helped transition data scientist tech mahindra salary hike upgrad online power learning powered lakh careers', 'kunal shah credit card bill payment platform cred gave users chance win free food swiggy one year pranav kaushik delhi techie bagged reward spending cred coins users get one cred coin per rupee bill paid used avail rewards brands like ixigo bookmyshow ubereats cult fit', 'new zealand defeated india wickets fourth odi hamilton thursday win first match five match odi series india lost international match rohit sharma captaincy consecutive victories dating back march match witnessed india getting seventh lowest total odi cricket history', 'aegon life iterm insurance plan customers enjoy tax benefits premiums paid save taxes plan provides life cover age years also customers options insure critical illnesses disability accidental death benefit rider life cover age years', 'speaking sexual harassment allegations rajkumar hirani sonam kapoor said known hirani many years true metoo movement get derailed metoo movement always believe woman case need reserve judgment added hirani accused assistant worked sanju']\n"
     ]
    }
   ],
   "source": [
    "clean_text = []\n",
    "# 전체 text 데이터에 대한 전처리 : 10분 이상 시간이 걸릴 수 있습니다. \n",
    "for s in data['text']:\n",
    "    clean_text.append(preprocess_sentence(s))\n",
    "\n",
    "# 전처리 후 출력\n",
    "print(\"text 전처리 후 결과: \", clean_text[:5])"
   ]
  },
  {
   "cell_type": "code",
   "execution_count": 11,
   "id": "e329f97f",
   "metadata": {},
   "outputs": [
    {
     "name": "stdout",
     "output_type": "stream",
     "text": [
      "headlines 전처리 후 결과:  ['upgrad learner switches to career in ml al with salary hike', 'delhi techie wins free food from swiggy for one year on cred', 'new zealand end rohit sharma led india match winning streak', 'aegon life iterm insurance plan helps customers save tax', 'have known hirani for yrs what if metoo claims are not true sonam']\n"
     ]
    }
   ],
   "source": [
    "clean_headlines = []\n",
    "# 전체 headlines 데이터에 대한 전처리 : 5분 이상 시간이 걸릴 수 있습니다. \n",
    "for s in data['headlines']:\n",
    "    clean_headlines.append(preprocess_sentence(s, False))\n",
    "\n",
    "print(\"headlines 전처리 후 결과: \", clean_headlines[:5])"
   ]
  },
  {
   "cell_type": "code",
   "execution_count": 12,
   "id": "2bf15c45",
   "metadata": {},
   "outputs": [],
   "source": [
    "data['text'] = clean_text\n",
    "data['headlines'] = clean_headlines\n",
    "\n",
    "# 빈 값을 Null 값으로 변환\n",
    "data.replace('', np.nan, inplace=True)"
   ]
  },
  {
   "cell_type": "code",
   "execution_count": 13,
   "id": "ea40d5c2",
   "metadata": {},
   "outputs": [
    {
     "data": {
      "text/plain": [
       "headlines    0\n",
       "text         0\n",
       "dtype: int64"
      ]
     },
     "execution_count": 13,
     "metadata": {},
     "output_type": "execute_result"
    }
   ],
   "source": [
    "data.isnull().sum()"
   ]
  },
  {
   "cell_type": "markdown",
   "id": "1a106fed",
   "metadata": {},
   "source": [
    "### 2-2. 훈련데이터와 테스트데이터 나누기"
   ]
  },
  {
   "cell_type": "markdown",
   "id": "38334405",
   "metadata": {},
   "source": [
    "#### 샘플의 최대 길이 정하기"
   ]
  },
  {
   "cell_type": "code",
   "execution_count": 14,
   "id": "d446715b",
   "metadata": {},
   "outputs": [
    {
     "name": "stdout",
     "output_type": "stream",
     "text": [
      "텍스트의 최소 길이 : 1\n",
      "텍스트의 최대 길이 : 60\n",
      "텍스트의 평균 길이 : 35.09968483123221\n",
      "헤드라인의 최소 길이 : 1\n",
      "헤드라인의 최대 길이 : 16\n",
      "헤드라인의 평균 길이 : 9.299532330215534\n"
     ]
    },
    {
     "data": {
      "image/png": "[encoded data removed]",
      "text/plain": [
       "<Figure size 432x288 with 2 Axes>"
      ]
     },
     "metadata": {
      "needs_background": "light"
     },
     "output_type": "display_data"
    },
    {
     "data": {
      "image/png": "[encoded data removed]",
      "text/plain": [
       "<Figure size 432x288 with 1 Axes>"
      ]
     },
     "metadata": {
      "needs_background": "light"
     },
     "output_type": "display_data"
    },
    {
     "data": {
      "image/png": "[encoded data removed]",
      "text/plain": [
       "<Figure size 432x288 with 1 Axes>"
      ]
     },
     "metadata": {
      "needs_background": "light"
     },
     "output_type": "display_data"
    }
   ],
   "source": [
    "# 길이 분포 출력\n",
    "\n",
    "text_len = [len(s.split()) for s in data['text']]\n",
    "headlines_len = [len(s.split()) for s in data['headlines']]\n",
    "\n",
    "print('텍스트의 최소 길이 : {}'.format(np.min(text_len)))\n",
    "print('텍스트의 최대 길이 : {}'.format(np.max(text_len)))\n",
    "print('텍스트의 평균 길이 : {}'.format(np.mean(text_len)))\n",
    "print('헤드라인의 최소 길이 : {}'.format(np.min(headlines_len)))\n",
    "print('헤드라인의 최대 길이 : {}'.format(np.max(headlines_len)))\n",
    "print('헤드라인의 평균 길이 : {}'.format(np.mean(headlines_len)))\n",
    "\n",
    "plt.subplot(1,2,1)\n",
    "plt.boxplot(text_len)\n",
    "plt.title('text')\n",
    "plt.subplot(1,2,2)\n",
    "plt.boxplot(headlines_len)\n",
    "plt.title('headlines')\n",
    "plt.tight_layout()\n",
    "plt.show()\n",
    "\n",
    "plt.title('text')\n",
    "plt.hist(text_len, bins = 40)\n",
    "plt.xlabel('length of samples')\n",
    "plt.ylabel('number of samples')\n",
    "plt.show()\n",
    "\n",
    "plt.title('headlines')\n",
    "plt.hist(headlines_len, bins = 40)\n",
    "plt.xlabel('length of samples')\n",
    "plt.ylabel('number of samples')\n",
    "plt.show()"
   ]
  },
  {
   "cell_type": "code",
   "execution_count": 15,
   "id": "45239e65",
   "metadata": {},
   "outputs": [],
   "source": [
    "# 위 Boxplot 참고하여 text의 최대 길이와 headline의 적절한 최대 길이를 임의로 정함\n",
    "\n",
    "text_max_len = 45\n",
    "headlines_max_len = 13"
   ]
  },
  {
   "cell_type": "code",
   "execution_count": 16,
   "id": "ea9827bf",
   "metadata": {},
   "outputs": [],
   "source": [
    "def below_threshold_len(max_len, nested_list):\n",
    "    cnt = 0\n",
    "    for s in nested_list:\n",
    "        if(len(s.split()) <= max_len):\n",
    "            cnt = cnt + 1\n",
    "    print('전체 샘플 중 길이가 %s 이하인 샘플의 비율: %s'%(max_len, (cnt / len(nested_list))))"
   ]
  },
  {
   "cell_type": "code",
   "execution_count": 17,
   "id": "c33e2ce5",
   "metadata": {},
   "outputs": [
    {
     "name": "stdout",
     "output_type": "stream",
     "text": [
      "전체 샘플 중 길이가 45 이하인 샘플의 비율: 0.9967771451809678\n",
      "전체 샘플 중 길이가 13 이하인 샘플의 비율: 0.9981699877999186\n"
     ]
    }
   ],
   "source": [
    "below_threshold_len(text_max_len, data['text'])\n",
    "below_threshold_len(headlines_max_len,  data['headlines'])"
   ]
  },
  {
   "cell_type": "code",
   "execution_count": 18,
   "id": "39d2a0dd",
   "metadata": {},
   "outputs": [
    {
     "name": "stdout",
     "output_type": "stream",
     "text": [
      "전체 샘플수 (이전 98360) : 97863\n"
     ]
    }
   ],
   "source": [
    "data = data[data['text'].apply(lambda x: len(x.split()) <= text_max_len)]\n",
    "data = data[data['headlines'].apply(lambda x: len(x.split()) <= headlines_max_len)]\n",
    "print('전체 샘플수 (이전 98360) :', (len(data)))"
   ]
  },
  {
   "cell_type": "markdown",
   "id": "9aa461b2",
   "metadata": {},
   "source": [
    "#### 시작 토큰과 종료 토큰 추가하기"
   ]
  },
  {
   "cell_type": "code",
   "execution_count": 19,
   "id": "1d7efb76",
   "metadata": {},
   "outputs": [
    {
     "data": {
      "text/html": [
       "<div>\n",
       "<style scoped>\n",
       "    .dataframe tbody tr th:only-of-type {\n",
       "        vertical-align: middle;\n",
       "    }\n",
       "\n",
       "    .dataframe tbody tr th {\n",
       "        vertical-align: top;\n",
       "    }\n",
       "\n",
       "    .dataframe thead th {\n",
       "        text-align: right;\n",
       "    }\n",
       "</style>\n",
       "<table border=\"1\" class=\"dataframe\">\n",
       "  <thead>\n",
       "    <tr style=\"text-align: right;\">\n",
       "      <th></th>\n",
       "      <th>headlines</th>\n",
       "      <th>text</th>\n",
       "      <th>decoder_input</th>\n",
       "      <th>decoder_target</th>\n",
       "    </tr>\n",
       "  </thead>\n",
       "  <tbody>\n",
       "    <tr>\n",
       "      <th>0</th>\n",
       "      <td>upgrad learner switches to career in ml al wit...</td>\n",
       "      <td>saurav kant alumnus upgrad iiit pg program mac...</td>\n",
       "      <td>sostoken upgrad learner switches to career in ...</td>\n",
       "      <td>upgrad learner switches to career in ml al wit...</td>\n",
       "    </tr>\n",
       "    <tr>\n",
       "      <th>1</th>\n",
       "      <td>delhi techie wins free food from swiggy for on...</td>\n",
       "      <td>kunal shah credit card bill payment platform c...</td>\n",
       "      <td>sostoken delhi techie wins free food from swig...</td>\n",
       "      <td>delhi techie wins free food from swiggy for on...</td>\n",
       "    </tr>\n",
       "    <tr>\n",
       "      <th>2</th>\n",
       "      <td>new zealand end rohit sharma led india match w...</td>\n",
       "      <td>new zealand defeated india wickets fourth odi ...</td>\n",
       "      <td>sostoken new zealand end rohit sharma led indi...</td>\n",
       "      <td>new zealand end rohit sharma led india match w...</td>\n",
       "    </tr>\n",
       "    <tr>\n",
       "      <th>3</th>\n",
       "      <td>aegon life iterm insurance plan helps customer...</td>\n",
       "      <td>aegon life iterm insurance plan customers enjo...</td>\n",
       "      <td>sostoken aegon life iterm insurance plan helps...</td>\n",
       "      <td>aegon life iterm insurance plan helps customer...</td>\n",
       "    </tr>\n",
       "    <tr>\n",
       "      <th>4</th>\n",
       "      <td>have known hirani for yrs what if metoo claims...</td>\n",
       "      <td>speaking sexual harassment allegations rajkuma...</td>\n",
       "      <td>sostoken have known hirani for yrs what if met...</td>\n",
       "      <td>have known hirani for yrs what if metoo claims...</td>\n",
       "    </tr>\n",
       "  </tbody>\n",
       "</table>\n",
       "</div>"
      ],
      "text/plain": [
       "                                           headlines  \\\n",
       "0  upgrad learner switches to career in ml al wit...   \n",
       "1  delhi techie wins free food from swiggy for on...   \n",
       "2  new zealand end rohit sharma led india match w...   \n",
       "3  aegon life iterm insurance plan helps customer...   \n",
       "4  have known hirani for yrs what if metoo claims...   \n",
       "\n",
       "                                                text  \\\n",
       "0  saurav kant alumnus upgrad iiit pg program mac...   \n",
       "1  kunal shah credit card bill payment platform c...   \n",
       "2  new zealand defeated india wickets fourth odi ...   \n",
       "3  aegon life iterm insurance plan customers enjo...   \n",
       "4  speaking sexual harassment allegations rajkuma...   \n",
       "\n",
       "                                       decoder_input  \\\n",
       "0  sostoken upgrad learner switches to career in ...   \n",
       "1  sostoken delhi techie wins free food from swig...   \n",
       "2  sostoken new zealand end rohit sharma led indi...   \n",
       "3  sostoken aegon life iterm insurance plan helps...   \n",
       "4  sostoken have known hirani for yrs what if met...   \n",
       "\n",
       "                                      decoder_target  \n",
       "0  upgrad learner switches to career in ml al wit...  \n",
       "1  delhi techie wins free food from swiggy for on...  \n",
       "2  new zealand end rohit sharma led india match w...  \n",
       "3  aegon life iterm insurance plan helps customer...  \n",
       "4  have known hirani for yrs what if metoo claims...  "
      ]
     },
     "execution_count": 19,
     "metadata": {},
     "output_type": "execute_result"
    }
   ],
   "source": [
    "# 해드라인 데이터에는 시작 토큰과 종료 토큰을 추가한다.\n",
    "data['decoder_input'] = data['headlines'].apply(lambda x : 'sostoken '+ x)\n",
    "data['decoder_target'] = data['headlines'].apply(lambda x : x + ' eostoken')\n",
    "data.head()"
   ]
  },
  {
   "cell_type": "code",
   "execution_count": 20,
   "id": "1ea3e5a3",
   "metadata": {},
   "outputs": [],
   "source": [
    "# 각각 다시 Numpy 타입으로 저장\n",
    "encoder_input = np.array(data['text']) # 인코더의 입력\n",
    "decoder_input = np.array(data['decoder_input']) # 디코더의 입력\n",
    "decoder_target = np.array(data['decoder_target']) # 디코더의 레이블"
   ]
  },
  {
   "cell_type": "markdown",
   "id": "fab0b538",
   "metadata": {},
   "source": [
    "#### 훈련 데이터와 테스트 데이터를 분리"
   ]
  },
  {
   "cell_type": "code",
   "execution_count": 21,
   "id": "a6ff0fcd",
   "metadata": {},
   "outputs": [
    {
     "name": "stdout",
     "output_type": "stream",
     "text": [
      "[50532 26232 47022 ... 85363 14609 48729]\n"
     ]
    }
   ],
   "source": [
    "# 분리 패키지를 사용하는 방법, 또는 직접 코딩을 통해서 분리하는 방법중 직접코딩으로 분리\n",
    "# 우선, encoder_input과 크기와 형태가 같은 순서가 섞인 정수 시퀀스를 만들어줌\n",
    "indices = np.arange(encoder_input.shape[0])\n",
    "np.random.shuffle(indices)\n",
    "print(indices)"
   ]
  },
  {
   "cell_type": "code",
   "execution_count": 22,
   "id": "d5613126",
   "metadata": {},
   "outputs": [],
   "source": [
    "# 이 정수 시퀀스를 이용해 다시 데이터의 샘플 순서를 정의해 주면 잘 섞인 샘플이 됨\n",
    "encoder_input = encoder_input[indices]\n",
    "decoder_input = decoder_input[indices]\n",
    "decoder_target = decoder_target[indices]"
   ]
  },
  {
   "cell_type": "code",
   "execution_count": 23,
   "id": "80938d11",
   "metadata": {},
   "outputs": [
    {
     "name": "stdout",
     "output_type": "stream",
     "text": [
      "테스트 데이터의 수 : 19572\n"
     ]
    }
   ],
   "source": [
    "# 섞인 데이터를 8:2의 비율로 훈련 데이터와 테스트 데이터로 분리\n",
    "n_of_val = int(len(encoder_input)*0.2)\n",
    "print('테스트 데이터의 수 :', n_of_val)"
   ]
  },
  {
   "cell_type": "code",
   "execution_count": 24,
   "id": "3aa1900b",
   "metadata": {},
   "outputs": [
    {
     "name": "stdout",
     "output_type": "stream",
     "text": [
      "훈련 데이터의 개수 : 78291\n",
      "훈련 레이블의 개수 : 78291\n",
      "테스트 데이터의 개수 : 19572\n",
      "테스트 레이블의 개수 : 19572\n"
     ]
    }
   ],
   "source": [
    "# 데이터 분리\n",
    "encoder_input_train = encoder_input[:-n_of_val]\n",
    "decoder_input_train = decoder_input[:-n_of_val]\n",
    "decoder_target_train = decoder_target[:-n_of_val]\n",
    "\n",
    "encoder_input_test = encoder_input[-n_of_val:]\n",
    "decoder_input_test = decoder_input[-n_of_val:]\n",
    "decoder_target_test = decoder_target[-n_of_val:]\n",
    "\n",
    "print('훈련 데이터의 개수 :', len(encoder_input_train))\n",
    "print('훈련 레이블의 개수 :', len(decoder_input_train))\n",
    "print('테스트 데이터의 개수 :', len(encoder_input_test))\n",
    "print('테스트 레이블의 개수 :', len(decoder_input_test))"
   ]
  },
  {
   "cell_type": "markdown",
   "id": "81ef4a9f",
   "metadata": {},
   "source": [
    "### 2-3. 정수 인코딩"
   ]
  },
  {
   "cell_type": "markdown",
   "id": "8eb66778",
   "metadata": {},
   "source": [
    "#### 단어 집합(vocabulary) 만들기 및 정수 인코딩"
   ]
  },
  {
   "cell_type": "code",
   "execution_count": 25,
   "id": "5a2e1874",
   "metadata": {},
   "outputs": [],
   "source": [
    "src_tokenizer = Tokenizer() # 토크나이저 정의\n",
    "src_tokenizer.fit_on_texts(encoder_input_train) # 입력된 데이터로부터 단어 집합 생성"
   ]
  },
  {
   "cell_type": "code",
   "execution_count": 26,
   "id": "29fac8a1",
   "metadata": {},
   "outputs": [
    {
     "name": "stdout",
     "output_type": "stream",
     "text": [
      "단어 집합(vocabulary)의 크기 : 69227\n",
      "등장 빈도가 6번 이하인 희귀 단어의 수: 47159\n",
      "단어 집합에서 희귀 단어를 제외시킬 경우의 단어 집합의 크기 22068\n",
      "단어 집합에서 희귀 단어의 비율: 68.12226443439698\n",
      "전체 등장 빈도에서 희귀 단어 등장 빈도 비율: 3.4922582706634056\n"
     ]
    }
   ],
   "source": [
    "# 빈도수가 낮은 단어들은 훈련 데이터에서 제외, 우선 7회 미만 빈도수 확인\n",
    "\n",
    "threshold = 7\n",
    "total_cnt = len(src_tokenizer.word_index) # 단어의 수\n",
    "rare_cnt = 0 # 등장 빈도수가 threshold보다 작은 단어의 개수를 카운트\n",
    "total_freq = 0 # 훈련 데이터의 전체 단어 빈도수 총 합\n",
    "rare_freq = 0 # 등장 빈도수가 threshold보다 작은 단어의 등장 빈도수의 총 합\n",
    "\n",
    "# 단어와 빈도수의 쌍(pair)을 key와 value로 받는다.\n",
    "for key, value in src_tokenizer.word_counts.items():\n",
    "    total_freq = total_freq + value\n",
    "\n",
    "    # 단어의 등장 빈도수가 threshold보다 작으면\n",
    "    if(value < threshold):\n",
    "        rare_cnt = rare_cnt + 1\n",
    "        rare_freq = rare_freq + value\n",
    "\n",
    "print('단어 집합(vocabulary)의 크기 :', total_cnt)\n",
    "print('등장 빈도가 %s번 이하인 희귀 단어의 수: %s'%(threshold - 1, rare_cnt))\n",
    "print('단어 집합에서 희귀 단어를 제외시킬 경우의 단어 집합의 크기 %s'%(total_cnt - rare_cnt))\n",
    "print(\"단어 집합에서 희귀 단어의 비율:\", (rare_cnt / total_cnt)*100)\n",
    "print(\"전체 등장 빈도에서 희귀 단어 등장 빈도 비율:\", (rare_freq / total_freq)*100)"
   ]
  },
  {
   "cell_type": "code",
   "execution_count": 27,
   "id": "35c36bf3",
   "metadata": {},
   "outputs": [],
   "source": [
    "# 희귀 단어를 제외한 단어집합 22115와 비슷한 20000개로 제한\n",
    "src_vocab = 20000\n",
    "src_tokenizer = Tokenizer(num_words=src_vocab) # 단어 집합의 크기를 20000으로 제한\n",
    "src_tokenizer.fit_on_texts(encoder_input_train) # 단어 집합 재생성"
   ]
  },
  {
   "cell_type": "code",
   "execution_count": 28,
   "id": "f0d66ad9",
   "metadata": {},
   "outputs": [
    {
     "name": "stdout",
     "output_type": "stream",
     "text": [
      "[[81, 404, 516, 56, 178, 3443, 3, 13, 52, 284, 1219, 6044, 1270, 1724, 258, 392, 7625, 52, 3222, 804, 1347, 1270, 1724, 134, 5859, 1079, 143, 4948, 2585, 1161, 27], [2, 1705, 303, 1179, 19, 2963, 1884, 55, 443, 19, 109, 144, 2, 3341, 928, 577, 5, 102, 707, 904, 212, 19, 109, 1284, 11, 1179, 2972, 175, 12, 22], [40, 2, 287, 1284, 122, 615, 587, 391, 19, 192, 615, 1725, 2152, 1001, 2, 1147, 25, 772, 179, 2644, 247, 587, 6, 287, 17, 73, 709, 137]]\n"
     ]
    }
   ],
   "source": [
    "# 텍스트 시퀀스를 정수 시퀀스로 변환\n",
    "encoder_input_train = src_tokenizer.texts_to_sequences(encoder_input_train) \n",
    "encoder_input_test = src_tokenizer.texts_to_sequences(encoder_input_test)\n",
    "\n",
    "# 잘 진행되었는지 샘플 출력\n",
    "print(encoder_input_train[:3])"
   ]
  },
  {
   "cell_type": "markdown",
   "id": "3eb67155",
   "metadata": {},
   "source": [
    "#### target에 대해서도 동일과정 진행"
   ]
  },
  {
   "cell_type": "code",
   "execution_count": 29,
   "id": "54d0cb1c",
   "metadata": {},
   "outputs": [],
   "source": [
    "tar_tokenizer = Tokenizer()\n",
    "tar_tokenizer.fit_on_texts(decoder_input_train)"
   ]
  },
  {
   "cell_type": "code",
   "execution_count": 30,
   "id": "d3a96f7c",
   "metadata": {},
   "outputs": [
    {
     "name": "stdout",
     "output_type": "stream",
     "text": [
      "단어 집합(vocabulary)의 크기 : 30033\n",
      "등장 빈도가 5번 이하인 희귀 단어의 수: 19643\n",
      "단어 집합에서 희귀 단어를 제외시킬 경우의 단어 집합의 크기 10390\n",
      "단어 집합에서 희귀 단어의 비율: 65.40472147304631\n",
      "전체 등장 빈도에서 희귀 단어 등장 빈도 비율: 4.6722348206982405\n"
     ]
    }
   ],
   "source": [
    "threshold = 6\n",
    "total_cnt = len(tar_tokenizer.word_index) # 단어의 수\n",
    "rare_cnt = 0 # 등장 빈도수가 threshold보다 작은 단어의 개수를 카운트\n",
    "total_freq = 0 # 훈련 데이터의 전체 단어 빈도수 총 합\n",
    "rare_freq = 0 # 등장 빈도수가 threshold보다 작은 단어의 등장 빈도수의 총 합\n",
    "\n",
    "# 단어와 빈도수의 쌍(pair)을 key와 value로 받는다.\n",
    "for key, value in tar_tokenizer.word_counts.items():\n",
    "    total_freq = total_freq + value\n",
    "\n",
    "    # 단어의 등장 빈도수가 threshold보다 작으면\n",
    "    if(value < threshold):\n",
    "        rare_cnt = rare_cnt + 1\n",
    "        rare_freq = rare_freq + value\n",
    "\n",
    "print('단어 집합(vocabulary)의 크기 :', total_cnt)\n",
    "print('등장 빈도가 %s번 이하인 희귀 단어의 수: %s'%(threshold - 1, rare_cnt))\n",
    "print('단어 집합에서 희귀 단어를 제외시킬 경우의 단어 집합의 크기 %s'%(total_cnt - rare_cnt))\n",
    "print(\"단어 집합에서 희귀 단어의 비율:\", (rare_cnt / total_cnt)*100)\n",
    "print(\"전체 등장 빈도에서 희귀 단어 등장 빈도 비율:\", (rare_freq / total_freq)*100)"
   ]
  },
  {
   "cell_type": "code",
   "execution_count": 31,
   "id": "3e0cf4b1",
   "metadata": {},
   "outputs": [
    {
     "name": "stdout",
     "output_type": "stream",
     "text": [
      "input\n",
      "input  [[1, 2787, 1108, 42, 20, 41, 779, 3788, 604, 4, 369], [1, 8, 30, 91, 359, 1130, 5384, 625, 30, 130], [1, 94, 8, 3, 195, 1375, 4, 502, 6, 30, 234], [1, 2917, 9498, 119, 4, 216, 16, 416, 598, 3, 436, 262, 6, 443], [1, 3481, 1074, 219, 46, 8176, 1131, 633, 117]]\n",
      "target\n",
      "decoder  [[2787, 1108, 42, 20, 41, 779, 3788, 604, 4, 369, 2], [8, 30, 91, 359, 1130, 5384, 625, 30, 130, 2], [94, 8, 3, 195, 1375, 4, 502, 6, 30, 234, 2], [2917, 9498, 119, 4, 216, 16, 416, 598, 3, 436, 262, 6, 443, 2], [3481, 1074, 219, 46, 8176, 1131, 633, 117, 2]]\n"
     ]
    }
   ],
   "source": [
    "tar_vocab = 10000\n",
    "tar_tokenizer = Tokenizer(num_words=tar_vocab) \n",
    "tar_tokenizer.fit_on_texts(decoder_input_train)\n",
    "tar_tokenizer.fit_on_texts(decoder_target_train)\n",
    "\n",
    "# 텍스트 시퀀스를 정수 시퀀스로 변환\n",
    "decoder_input_train = tar_tokenizer.texts_to_sequences(decoder_input_train) \n",
    "decoder_target_train = tar_tokenizer.texts_to_sequences(decoder_target_train)\n",
    "decoder_input_test = tar_tokenizer.texts_to_sequences(decoder_input_test)\n",
    "decoder_target_test = tar_tokenizer.texts_to_sequences(decoder_target_test)\n",
    "\n",
    "# 잘 변환되었는지 확인\n",
    "print('input')\n",
    "print('input ',decoder_input_train[:5])\n",
    "print('target')\n",
    "print('decoder ',decoder_target_train[:5])"
   ]
  },
  {
   "cell_type": "markdown",
   "id": "a8bd1e86",
   "metadata": {},
   "source": [
    "#### 요약문의 길이가 1인 경우 제거하기"
   ]
  },
  {
   "cell_type": "code",
   "execution_count": 32,
   "id": "d5a1618f",
   "metadata": {},
   "outputs": [
    {
     "name": "stdout",
     "output_type": "stream",
     "text": [
      "삭제할 훈련 데이터의 개수 : 0\n",
      "삭제할 테스트 데이터의 개수 : 1\n",
      "훈련 데이터의 개수 : 78291\n",
      "훈련 레이블의 개수 : 78291\n",
      "테스트 데이터의 개수 : 19571\n",
      "테스트 레이블의 개수 : 19571\n"
     ]
    }
   ],
   "source": [
    "# 희귀단어 제외로 인한 headlines 문장길이 0 (실제로는 시작/종료 토큰이 있어 1)이 된 샘플 삭제\n",
    "\n",
    "drop_train = [index for index, sentence in enumerate(decoder_input_train) if len(sentence) == 1]\n",
    "drop_test = [index for index, sentence in enumerate(decoder_input_test) if len(sentence) == 1]\n",
    "\n",
    "print('삭제할 훈련 데이터의 개수 :', len(drop_train))\n",
    "print('삭제할 테스트 데이터의 개수 :', len(drop_test))\n",
    "\n",
    "encoder_input_train = [sentence for index, sentence in enumerate(encoder_input_train) if index not in drop_train]\n",
    "decoder_input_train = [sentence for index, sentence in enumerate(decoder_input_train) if index not in drop_train]\n",
    "decoder_target_train = [sentence for index, sentence in enumerate(decoder_target_train) if index not in drop_train]\n",
    "\n",
    "encoder_input_test = [sentence for index, sentence in enumerate(encoder_input_test) if index not in drop_test]\n",
    "decoder_input_test = [sentence for index, sentence in enumerate(decoder_input_test) if index not in drop_test]\n",
    "decoder_target_test = [sentence for index, sentence in enumerate(decoder_target_test) if index not in drop_test]\n",
    "\n",
    "print('훈련 데이터의 개수 :', len(encoder_input_train))\n",
    "print('훈련 레이블의 개수 :', len(decoder_input_train))\n",
    "print('테스트 데이터의 개수 :', len(encoder_input_test))\n",
    "print('테스트 레이블의 개수 :', len(decoder_input_test))"
   ]
  },
  {
   "cell_type": "markdown",
   "id": "22d34438",
   "metadata": {},
   "source": [
    "#### 테스트 데이터에서 1개의 샘플이 삭제 되었다."
   ]
  },
  {
   "cell_type": "markdown",
   "id": "631bcfe9",
   "metadata": {},
   "source": [
    "#### 패딩하기"
   ]
  },
  {
   "cell_type": "code",
   "execution_count": 33,
   "id": "5e2936bd",
   "metadata": {},
   "outputs": [
    {
     "name": "stdout",
     "output_type": "stream",
     "text": [
      "[[  81  404  516   56  178 3443    3   13   52  284 1219 6044 1270 1724\n",
      "   258  392 7625   52 3222  804 1347 1270 1724  134 5859 1079  143 4948\n",
      "  2585 1161   27    0    0    0    0    0    0    0    0    0    0    0\n",
      "     0    0    0]]\n",
      "[[  654    56    93    17   320  1793  1761   710   106 19051   123    44\n",
      "    654  1368  1421   320   198    44   123   527   117  1121   123    44\n",
      "   1566  1875  3936  1402   654   123  5019  7023     0     0     0     0\n",
      "      0     0     0     0     0     0     0     0     0]]\n",
      "[[   1 2787 1108   42   20   41  779 3788  604    4  369    0    0]]\n",
      "[[2787 1108   42   20   41  779 3788  604    4  369    2    0    0]]\n",
      "[[  1 222 365  72   5  50   0   0   0   0   0   0   0]]\n",
      "[[222 365  72   5  50   2   0   0   0   0   0   0   0]]\n"
     ]
    }
   ],
   "source": [
    "encoder_input_train = pad_sequences(encoder_input_train, maxlen=text_max_len, padding='post')\n",
    "encoder_input_test = pad_sequences(encoder_input_test, maxlen=text_max_len, padding='post')\n",
    "decoder_input_train = pad_sequences(decoder_input_train, maxlen=headlines_max_len, padding='post')\n",
    "decoder_target_train = pad_sequences(decoder_target_train, maxlen=headlines_max_len, padding='post')\n",
    "decoder_input_test = pad_sequences(decoder_input_test, maxlen=headlines_max_len, padding='post')\n",
    "decoder_target_test = pad_sequences(decoder_target_test, maxlen=headlines_max_len, padding='post')\n",
    "print(encoder_input_train[:1])\n",
    "print(encoder_input_test[:1])\n",
    "print(decoder_input_train[:1])\n",
    "print(decoder_target_train[:1])\n",
    "print(decoder_input_test[:1])\n",
    "print(decoder_target_test[:1])"
   ]
  },
  {
   "cell_type": "markdown",
   "id": "284c73c8",
   "metadata": {},
   "source": [
    "#### 패딩이 잘 이루어졌다."
   ]
  },
  {
   "cell_type": "markdown",
   "id": "7b5a5cea",
   "metadata": {},
   "source": [
    "## Step 3. 어텐션 메커니즘 사용하기 (추상적 요약)"
   ]
  },
  {
   "cell_type": "markdown",
   "id": "413886f5",
   "metadata": {},
   "source": [
    "### 3-1. 인코더 설계"
   ]
  },
  {
   "cell_type": "code",
   "execution_count": 34,
   "id": "c152bf0f",
   "metadata": {},
   "outputs": [],
   "source": [
    "# 인코더 설계 시작\n",
    "embedding_dim = 128\n",
    "hidden_size = 256\n",
    "\n",
    "# 인코더\n",
    "encoder_inputs = Input(shape=(text_max_len,))\n",
    "\n",
    "# 인코더의 임베딩 층\n",
    "enc_emb = Embedding(src_vocab, embedding_dim)(encoder_inputs)\n",
    "\n",
    "# 인코더의 LSTM 1\n",
    "# encoder_lstm1 = LSTM(hidden_size, return_sequences=True, return_state=True ,dropout = 0.4, recurrent_dropout = 0.4)\n",
    "encoder_lstm1 = LSTM(hidden_size, return_sequences=True, return_state=True ,dropout = 0.4)\n",
    "encoder_output1, state_h1, state_c1 = encoder_lstm1(enc_emb)\n",
    "\n",
    "# 인코더의 LSTM 2\n",
    "# encoder_lstm2 = LSTM(hidden_size, return_sequences=True, return_state=True, dropout=0.4, recurrent_dropout=0.4)\n",
    "encoder_lstm2 = LSTM(hidden_size, return_sequences=True, return_state=True, dropout=0.4)\n",
    "encoder_output2, state_h2, state_c2 = encoder_lstm2(encoder_output1)\n",
    "\n",
    "# 인코더의 LSTM 3\n",
    "# encoder_lstm3 = LSTM(hidden_size, return_state=True, return_sequences=True, dropout=0.4, recurrent_dropout=0.4)\n",
    "encoder_lstm3 = LSTM(hidden_size, return_state=True, return_sequences=True, dropout=0.4)\n",
    "encoder_outputs, state_h, state_c= encoder_lstm3(encoder_output2)"
   ]
  },
  {
   "cell_type": "markdown",
   "id": "5b1681bc",
   "metadata": {},
   "source": [
    "### 3-2. 디코더 설계"
   ]
  },
  {
   "cell_type": "code",
   "execution_count": 35,
   "id": "acf2778c",
   "metadata": {},
   "outputs": [],
   "source": [
    "# 디코더 설계\n",
    "decoder_inputs = Input(shape=(None,))\n",
    "\n",
    "# 디코더의 임베딩 층\n",
    "dec_emb_layer = Embedding(tar_vocab, embedding_dim)\n",
    "dec_emb = dec_emb_layer(decoder_inputs)\n",
    "\n",
    "# 디코더의 LSTM\n",
    "# decoder_lstm = LSTM(hidden_size, return_sequences=True, return_state=True, dropout=0.4, recurrent_dropout=0.2)\n",
    "decoder_lstm = LSTM(hidden_size, return_sequences=True, return_state=True, dropout=0.4)\n",
    "decoder_outputs, _, _ = decoder_lstm(dec_emb, initial_state=[state_h, state_c])"
   ]
  },
  {
   "cell_type": "code",
   "execution_count": 36,
   "id": "18094ba7",
   "metadata": {},
   "outputs": [
    {
     "name": "stdout",
     "output_type": "stream",
     "text": [
      "Model: \"model\"\n",
      "__________________________________________________________________________________________________\n",
      "Layer (type)                    Output Shape         Param #     Connected to                     \n",
      "==================================================================================================\n",
      "input_1 (InputLayer)            [(None, 45)]         0                                            \n",
      "__________________________________________________________________________________________________\n",
      "embedding (Embedding)           (None, 45, 128)      2560000     input_1[0][0]                    \n",
      "__________________________________________________________________________________________________\n",
      "lstm (LSTM)                     [(None, 45, 256), (N 394240      embedding[0][0]                  \n",
      "__________________________________________________________________________________________________\n",
      "input_2 (InputLayer)            [(None, None)]       0                                            \n",
      "__________________________________________________________________________________________________\n",
      "lstm_1 (LSTM)                   [(None, 45, 256), (N 525312      lstm[0][0]                       \n",
      "__________________________________________________________________________________________________\n",
      "embedding_1 (Embedding)         (None, None, 128)    1280000     input_2[0][0]                    \n",
      "__________________________________________________________________________________________________\n",
      "lstm_2 (LSTM)                   [(None, 45, 256), (N 525312      lstm_1[0][0]                     \n",
      "__________________________________________________________________________________________________\n",
      "lstm_3 (LSTM)                   [(None, None, 256),  394240      embedding_1[0][0]                \n",
      "                                                                 lstm_2[0][1]                     \n",
      "                                                                 lstm_2[0][2]                     \n",
      "__________________________________________________________________________________________________\n",
      "dense (Dense)                   (None, None, 10000)  2570000     lstm_3[0][0]                     \n",
      "==================================================================================================\n",
      "Total params: 8,249,104\n",
      "Trainable params: 8,249,104\n",
      "Non-trainable params: 0\n",
      "__________________________________________________________________________________________________\n"
     ]
    }
   ],
   "source": [
    "# 디코더의 출력층\n",
    "decoder_softmax_layer = Dense(tar_vocab, activation='softmax')\n",
    "decoder_softmax_outputs = decoder_softmax_layer(decoder_outputs) \n",
    "\n",
    "# 모델 정의\n",
    "model = Model([encoder_inputs, decoder_inputs], decoder_softmax_outputs)\n",
    "model.summary()"
   ]
  },
  {
   "cell_type": "markdown",
   "id": "62712587",
   "metadata": {},
   "source": [
    "### 3-3. 어텐션 메커니즘"
   ]
  },
  {
   "cell_type": "code",
   "execution_count": 37,
   "id": "7a289063",
   "metadata": {},
   "outputs": [
    {
     "name": "stdout",
     "output_type": "stream",
     "text": [
      "Model: \"model_1\"\n",
      "__________________________________________________________________________________________________\n",
      "Layer (type)                    Output Shape         Param #     Connected to                     \n",
      "==================================================================================================\n",
      "input_1 (InputLayer)            [(None, 45)]         0                                            \n",
      "__________________________________________________________________________________________________\n",
      "embedding (Embedding)           (None, 45, 128)      2560000     input_1[0][0]                    \n",
      "__________________________________________________________________________________________________\n",
      "lstm (LSTM)                     [(None, 45, 256), (N 394240      embedding[0][0]                  \n",
      "__________________________________________________________________________________________________\n",
      "input_2 (InputLayer)            [(None, None)]       0                                            \n",
      "__________________________________________________________________________________________________\n",
      "lstm_1 (LSTM)                   [(None, 45, 256), (N 525312      lstm[0][0]                       \n",
      "__________________________________________________________________________________________________\n",
      "embedding_1 (Embedding)         (None, None, 128)    1280000     input_2[0][0]                    \n",
      "__________________________________________________________________________________________________\n",
      "lstm_2 (LSTM)                   [(None, 45, 256), (N 525312      lstm_1[0][0]                     \n",
      "__________________________________________________________________________________________________\n",
      "lstm_3 (LSTM)                   [(None, None, 256),  394240      embedding_1[0][0]                \n",
      "                                                                 lstm_2[0][1]                     \n",
      "                                                                 lstm_2[0][2]                     \n",
      "__________________________________________________________________________________________________\n",
      "attention_layer (AdditiveAttent (None, None, 256)    256         lstm_3[0][0]                     \n",
      "                                                                 lstm_2[0][0]                     \n",
      "__________________________________________________________________________________________________\n",
      "concat_layer (Concatenate)      (None, None, 512)    0           lstm_3[0][0]                     \n",
      "                                                                 attention_layer[0][0]            \n",
      "__________________________________________________________________________________________________\n",
      "dense_1 (Dense)                 (None, None, 10000)  5130000     concat_layer[0][0]               \n",
      "==================================================================================================\n",
      "Total params: 10,809,360\n",
      "Trainable params: 10,809,360\n",
      "Non-trainable params: 0\n",
      "__________________________________________________________________________________________________\n"
     ]
    }
   ],
   "source": [
    "# 어텐션 층(어텐션 함수)\n",
    "attn_layer = AdditiveAttention(name='attention_layer')\n",
    "\n",
    "# 인코더와 디코더의 모든 time step의 hidden state를 어텐션 층에 전달하고 결과를 리턴\n",
    "attn_out = attn_layer([decoder_outputs, encoder_outputs])\n",
    "\n",
    "\n",
    "# 어텐션의 결과와 디코더의 hidden state들을 연결\n",
    "decoder_concat_input = Concatenate(axis=-1, name='concat_layer')([decoder_outputs, attn_out])\n",
    "\n",
    "# 디코더의 출력층\n",
    "decoder_softmax_layer = Dense(tar_vocab, activation='softmax')\n",
    "decoder_softmax_outputs = decoder_softmax_layer(decoder_concat_input)\n",
    "\n",
    "# 모델 정의\n",
    "model = Model([encoder_inputs, decoder_inputs], decoder_softmax_outputs)\n",
    "model.summary()"
   ]
  },
  {
   "cell_type": "markdown",
   "id": "de7e8459",
   "metadata": {},
   "source": [
    "### 3-4. 모델 훈련하기"
   ]
  },
  {
   "cell_type": "code",
   "execution_count": 38,
   "id": "8ac3c609",
   "metadata": {},
   "outputs": [
    {
     "name": "stdout",
     "output_type": "stream",
     "text": [
      "Epoch 1/50\n",
      "306/306 [==============================] - 37s 100ms/step - loss: 5.2353 - val_loss: 4.8169\n",
      "Epoch 2/50\n",
      "306/306 [==============================] - 30s 99ms/step - loss: 4.6810 - val_loss: 4.4841\n",
      "Epoch 3/50\n",
      "306/306 [==============================] - 31s 102ms/step - loss: 4.3599 - val_loss: 4.2056\n",
      "Epoch 4/50\n",
      "306/306 [==============================] - 32s 106ms/step - loss: 4.1090 - val_loss: 4.0383\n",
      "Epoch 5/50\n",
      "306/306 [==============================] - 32s 106ms/step - loss: 3.9177 - val_loss: 3.9149\n",
      "Epoch 6/50\n",
      "306/306 [==============================] - 32s 105ms/step - loss: 3.7657 - val_loss: 3.8272\n",
      "Epoch 7/50\n",
      "306/306 [==============================] - 32s 106ms/step - loss: 3.6316 - val_loss: 3.7339\n",
      "Epoch 8/50\n",
      "306/306 [==============================] - 32s 105ms/step - loss: 3.5143 - val_loss: 3.6701\n",
      "Epoch 9/50\n",
      "306/306 [==============================] - 32s 106ms/step - loss: 3.4090 - val_loss: 3.6146\n",
      "Epoch 10/50\n",
      "306/306 [==============================] - 32s 106ms/step - loss: 3.3157 - val_loss: 3.5719\n",
      "Epoch 11/50\n",
      "306/306 [==============================] - 32s 106ms/step - loss: 3.2342 - val_loss: 3.5333\n",
      "Epoch 12/50\n",
      "306/306 [==============================] - 32s 106ms/step - loss: 3.1575 - val_loss: 3.5084\n",
      "Epoch 13/50\n",
      "306/306 [==============================] - 32s 106ms/step - loss: 3.0882 - val_loss: 3.4853\n",
      "Epoch 14/50\n",
      "306/306 [==============================] - 32s 106ms/step - loss: 3.0251 - val_loss: 3.4629\n",
      "Epoch 15/50\n",
      "306/306 [==============================] - 32s 106ms/step - loss: 2.9658 - val_loss: 3.4437\n",
      "Epoch 16/50\n",
      "306/306 [==============================] - 32s 105ms/step - loss: 2.9115 - val_loss: 3.4278\n",
      "Epoch 17/50\n",
      "306/306 [==============================] - 32s 106ms/step - loss: 2.8590 - val_loss: 3.4187\n",
      "Epoch 18/50\n",
      "306/306 [==============================] - 32s 106ms/step - loss: 2.8120 - val_loss: 3.4105\n",
      "Epoch 19/50\n",
      "306/306 [==============================] - 32s 106ms/step - loss: 2.7677 - val_loss: 3.4065\n",
      "Epoch 20/50\n",
      "306/306 [==============================] - 32s 106ms/step - loss: 2.7254 - val_loss: 3.3907\n",
      "Epoch 21/50\n",
      "306/306 [==============================] - 32s 106ms/step - loss: 2.6875 - val_loss: 3.3899\n",
      "Epoch 22/50\n",
      "306/306 [==============================] - 32s 106ms/step - loss: 2.6500 - val_loss: 3.3884\n",
      "Epoch 23/50\n",
      "306/306 [==============================] - 32s 106ms/step - loss: 2.6137 - val_loss: 3.3849\n",
      "Epoch 24/50\n",
      "306/306 [==============================] - 32s 106ms/step - loss: 2.5770 - val_loss: 3.3814\n",
      "Epoch 25/50\n",
      "306/306 [==============================] - 32s 106ms/step - loss: 2.5438 - val_loss: 3.3817\n",
      "Epoch 26/50\n",
      "306/306 [==============================] - 32s 106ms/step - loss: 2.5130 - val_loss: 3.3806\n",
      "Epoch 27/50\n",
      "306/306 [==============================] - 32s 106ms/step - loss: 2.4853 - val_loss: 3.3797\n",
      "Epoch 28/50\n",
      "306/306 [==============================] - 32s 106ms/step - loss: 2.4575 - val_loss: 3.3843\n",
      "Epoch 29/50\n",
      "306/306 [==============================] - 32s 106ms/step - loss: 2.4313 - val_loss: 3.3807\n",
      "Epoch 00029: early stopping\n"
     ]
    }
   ],
   "source": [
    "model.compile(optimizer='rmsprop', loss='sparse_categorical_crossentropy')\n",
    "es = EarlyStopping(monitor='val_loss', patience=2, verbose=1)\n",
    "history = model.fit(x=[encoder_input_train, decoder_input_train], y=decoder_target_train, \\\n",
    "          validation_data=([encoder_input_test, decoder_input_test], decoder_target_test), \\\n",
    "          batch_size=256, callbacks=[es], epochs=50)"
   ]
  },
  {
   "cell_type": "code",
   "execution_count": 39,
   "id": "0fa93628",
   "metadata": {},
   "outputs": [
    {
     "data": {
      "image/png": "[encoded data removed]",
      "text/plain": [
       "<Figure size 432x288 with 1 Axes>"
      ]
     },
     "metadata": {
      "needs_background": "light"
     },
     "output_type": "display_data"
    }
   ],
   "source": [
    "plt.plot(history.history['loss'], label='train loss')\n",
    "plt.plot(history.history['val_loss'], label='val loss')\n",
    "plt.xlabel('Epochs')\n",
    "plt.ylabel('Loss')\n",
    "plt.legend()\n",
    "plt.show()"
   ]
  },
  {
   "cell_type": "markdown",
   "id": "2904806d",
   "metadata": {},
   "source": [
    "## Step 4. 실제 결과와 요약문 비교하기 (추상적 요약)"
   ]
  },
  {
   "cell_type": "markdown",
   "id": "3a93bafa",
   "metadata": {},
   "source": [
    "### 4-1. 인퍼런스 모델 구현하기"
   ]
  },
  {
   "cell_type": "code",
   "execution_count": 40,
   "id": "aac8c850",
   "metadata": {},
   "outputs": [],
   "source": [
    "# 테스트 단계에서는 정수 인덱스 행렬로 존재하던 텍스트 데이터를 실제 데이터로 복원해야 하므로,\n",
    "# 필요한 3개의 사전을 아래와 같이 미리 준비\n",
    "src_index_to_word = src_tokenizer.index_word # 원문 단어 집합에서 정수 -> 단어를 얻음\n",
    "tar_word_to_index = tar_tokenizer.word_index # 요약 단어 집합에서 단어 -> 정수를 얻음\n",
    "tar_index_to_word = tar_tokenizer.index_word # 요약 단어 집합에서 정수 -> 단어를 얻음"
   ]
  },
  {
   "cell_type": "code",
   "execution_count": 41,
   "id": "0d2ae886",
   "metadata": {},
   "outputs": [],
   "source": [
    "# 인코더 설계\n",
    "encoder_model = Model(inputs=encoder_inputs, outputs=[encoder_outputs, state_h, state_c])\n",
    "\n",
    "# 이전 시점의 상태들을 저장하는 텐서\n",
    "decoder_state_input_h = Input(shape=(hidden_size,))\n",
    "decoder_state_input_c = Input(shape=(hidden_size,))\n",
    "\n",
    "dec_emb2 = dec_emb_layer(decoder_inputs)\n",
    "\n",
    "# 문장의 다음 단어를 예측하기 위해서 초기 상태(initial_state)를 이전 시점의 상태로 사용. 이는 뒤의 함수 decode_sequence()에 구현\n",
    "# 훈련 과정에서와 달리 LSTM의 리턴하는 은닉 상태와 셀 상태인 state_h와 state_c를 버리지 않음.\n",
    "decoder_outputs2, state_h2, state_c2 = decoder_lstm(dec_emb2, initial_state=[decoder_state_input_h, decoder_state_input_c])"
   ]
  },
  {
   "cell_type": "code",
   "execution_count": 42,
   "id": "c33e839b",
   "metadata": {},
   "outputs": [],
   "source": [
    "# 어텐션 메커니즘을 사용하는 출력층을 설계\n",
    "\n",
    "# 어텐션 함수\n",
    "decoder_hidden_state_input = Input(shape=(text_max_len, hidden_size))\n",
    "attn_out_inf = attn_layer([decoder_outputs2, decoder_hidden_state_input])\n",
    "decoder_inf_concat = Concatenate(axis=-1, name='concat')([decoder_outputs2, attn_out_inf])\n",
    "\n",
    "# 디코더의 출력층\n",
    "decoder_outputs2 = decoder_softmax_layer(decoder_inf_concat) \n",
    "\n",
    "# 최종 디코더 모델\n",
    "decoder_model = Model(\n",
    "    [decoder_inputs] + [decoder_hidden_state_input,decoder_state_input_h, decoder_state_input_c],\n",
    "    [decoder_outputs2] + [state_h2, state_c2])"
   ]
  },
  {
   "cell_type": "code",
   "execution_count": 43,
   "id": "4710d56e",
   "metadata": {},
   "outputs": [],
   "source": [
    "# 인퍼런스 단계에서 단어 시퀀스를 완성하는 함수\n",
    "\n",
    "def decode_sequence(input_seq):\n",
    "    # 입력으로부터 인코더의 상태를 얻음\n",
    "    e_out, e_h, e_c = encoder_model.predict(input_seq)\n",
    "\n",
    "     # <SOS>에 해당하는 토큰 생성\n",
    "    target_seq = np.zeros((1,1))\n",
    "    target_seq[0, 0] = tar_word_to_index['sostoken']\n",
    "\n",
    "    stop_condition = False\n",
    "    decoded_sentence = ''\n",
    "    while not stop_condition: # stop_condition이 True가 될 때까지 루프 반복\n",
    "\n",
    "        output_tokens, h, c = decoder_model.predict([target_seq] + [e_out, e_h, e_c])\n",
    "        sampled_token_index = np.argmax(output_tokens[0, -1, :])\n",
    "        sampled_token = tar_index_to_word[sampled_token_index]\n",
    "\n",
    "        if (sampled_token!='eostoken'):\n",
    "            decoded_sentence += ' '+sampled_token\n",
    "\n",
    "        #  <eos>에 도달하거나 최대 길이를 넘으면 중단.\n",
    "        if (sampled_token == 'eostoken'  or len(decoded_sentence.split()) >= (headlines_max_len-1)):\n",
    "            stop_condition = True\n",
    "\n",
    "        # 길이가 1인 타겟 시퀀스를 업데이트\n",
    "        target_seq = np.zeros((1,1))\n",
    "        target_seq[0, 0] = sampled_token_index\n",
    "\n",
    "        # 상태를 업데이트 합니다.\n",
    "        e_h, e_c = h, c\n",
    "\n",
    "    return decoded_sentence"
   ]
  },
  {
   "cell_type": "markdown",
   "id": "b77cbaa1",
   "metadata": {},
   "source": [
    "### 4-2. 모델 테스트하기"
   ]
  },
  {
   "cell_type": "code",
   "execution_count": 44,
   "id": "905d811e",
   "metadata": {},
   "outputs": [],
   "source": [
    "# 원문의 정수 시퀀스를 텍스트 시퀀스로 변환\n",
    "def seq2text(input_seq):\n",
    "    temp=''\n",
    "    for i in input_seq:\n",
    "        if (i!=0):\n",
    "            temp = temp + src_index_to_word[i]+' '\n",
    "    return temp\n",
    "\n",
    "# 요약문의 정수 시퀀스를 텍스트 시퀀스로 변환\n",
    "def seq2headlines(input_seq):\n",
    "    temp=''\n",
    "    for i in input_seq:\n",
    "        if ((i!=0 and i!=tar_word_to_index['sostoken']) and i!=tar_word_to_index['eostoken']):\n",
    "            temp = temp + tar_index_to_word[i] + ' '\n",
    "    return temp"
   ]
  },
  {
   "cell_type": "code",
   "execution_count": 45,
   "id": "432e090f",
   "metadata": {},
   "outputs": [
    {
     "name": "stdout",
     "output_type": "stream",
     "text": [
      "원문 : managing director indian public sector lender punjab national bank sunil mehta put branches investigation asked loss making branches either shape within year face closure merger however clarified loss making marginally profit making pnb branches across country \n",
      "실제 요약 : shape up or face closure pnb chief to loss making branches \n",
      "예측 요약 :  govt seeks cr from fraud against aditya reports\n",
      "\n",
      "\n",
      "원문 : per reports sonam kapoor marrying businessman anand ahuja mumbai april earlier reports getting married switzerland may sonam family reportedly could host wedding choice resort pre booked saudi princess dates \n",
      "실제 요약 : sonam to marry anand ahuja in mumbai on april reports \n",
      "예측 요약 :  sonam kapoor to get married on wedding reports\n",
      "\n",
      "\n",
      "원문 : akhil bharatiya vidyarthi parishad five key posts university hyderabad students union elections gap eight years aarti phd psychology student become second female president university history defeated naveen kumar students federation india margin votes \n",
      "실제 요약 : abvp university of hyd student union poll after yrs \n",
      "예측 요약 :  jnu students to be in motion\n",
      "\n",
      "\n",
      "원문 : female uber driver shot neck shortly picking two passengers san francisco international airport earlier week driving along fired according california highway patrol however officer williams said motive shooting determined \n",
      "실제 요약 : female uber driver shot after picking up two riders in us \n",
      "예측 요약 :  uber driver attacked for bomb ride in canada\n",
      "\n",
      "\n",
      "원문 : johnson johnson lost billion market value friday trading reuters report said company knew decades asbestos present baby powder statement called report one sided false inflammatory adding talc cause cancer however reuters said article based entirely internal documents \n",
      "실제 요약 : loses bn cap in day on report of in baby powder \n",
      "예측 요약 :  billionaire loses bn in cap after bn loss\n",
      "\n",
      "\n",
      "원문 : mexican female sports anchor hit man microphone latter allegedly groped live television man allegedly groped reporter twice behind discussing football match fans happened early last thursday happens thousands women every day countless public spaces reporter tweeted \n",
      "실제 요약 : reporter hits man with for groping her on live tv \n",
      "예측 요약 :  video shows dubai man who called tv show at\n",
      "\n",
      "\n",
      "원문 : american nfl star colin kaepernick us national anthem protest racial inequality honoured amnesty international ambassador conscience award response kaepernick players demonstrations nfl agreed commit million next seven years social justice causes \n",
      "실제 요약 : player who during national anthem gets amnesty award \n",
      "예측 요약 :  black panther to be offered to us anthem\n",
      "\n",
      "\n",
      "원문 : defence ministry friday cleared proposal procurement military equipment worth crore including long range guns navy anti tank guided missile army defence acquisition council meeting chaired defence minister nirmala sitharaman progress drdo programme develop indigenous airborne warning control system also reviewed \n",
      "실제 요약 : govt clears military equipment worth cr \n",
      "예측 요약 :  army to buy military worth lakh crore for army\n",
      "\n",
      "\n",
      "원문 : bjp mp subramanian swamy tuesday laughed reaction question congress claims tampering electronic voting machines karnataka assembly elections came early trends showed bjp securing victory elections swamy earlier tweeted prediction elections stating bjp win seats \n",
      "실제 요약 : swamy reacts to congress questioning evms in taka election \n",
      "예측 요약 :  evms will be made from evms fm on evms swamy\n",
      "\n",
      "\n",
      "원문 : alibaba along group investors leading billion investment chinese delivery service exchange stake firm alibaba led investor group includes logistics arm company said deal would alibaba third investment chinese courier buying minority stakes express best \n",
      "실제 요약 : alibaba leads bn investment in chinese delivery firm \n",
      "예측 요약 :  alibaba raises mn in alibaba led to billion in\n",
      "\n",
      "\n",
      "원문 : tech mahindra ceo cp gurnani received crore fy crore fy vineet nayyar executive vice chairman company till august made crore total two fy infosys ceo vishal sikka earned crore former tcs ceo current tata chairman chandrasekaran made crore \n",
      "실제 요약 : how much do top of india biggest it firms earn \n",
      "예측 요약 :  mahindra ceo posts crore in fy\n",
      "\n",
      "\n",
      "원문 : stating congress added pandit former pm jawaharlal nehru name bjp mla gyan dev ahuja friday said nehru pandit one ate beef pork cannot pandit bjp mla rajasthan also accused congress party contesting elections name casteism \n",
      "실제 요약 : nehru ate beef and he cannot be bjp mla \n",
      "예측 요약 :  congress is not like female leader\n",
      "\n",
      "\n",
      "원문 : cbi confirmed nirav modi managed travel across several countries even information passport revocation updated interpol database february cbi said according information nirav modi one passport though cbi wrote six countries uk responded informing nirav movements \n",
      "실제 요약 : nirav travelled on revoked passport despite interpol alert cbi \n",
      "예측 요약 :  nirav modi to be cbi to cbi to cbi on nirav modi\n",
      "\n",
      "\n",
      "원문 : nasa successfully launched football stadium sized super pressure balloon new zealand tuesday balloon designed fly around days feet high earth surface balloon carries kg payload detect ultra high energy cosmic rays outer space nasa launched scientific balloons years operation \n",
      "실제 요약 : nasa launches football stadium sized super pressure balloon \n",
      "예측 요약 :  isro unveils first ever car to make space\n",
      "\n",
      "\n",
      "원문 : addressing gathering indonesia wednesday prime minister narendra modi said many may never india invite come india kumbh next year talking ties two nations said india indonesia tied cultural relationship old bond \n",
      "실제 요약 : invite you all to attend kumbh next year pm in indonesia \n",
      "예측 요약 :  india will be india to be pm modi\n",
      "\n",
      "\n",
      "원문 : claiming congress vice president rahul gandhi came support ishrat jahan uttar pradesh cm yogi adityanath said supporter destruction development ishrat jahan killed controversial encounter security forces gujarat alleged involvement terrorist mission assassinate gujarat cm narendra modi \n",
      "실제 요약 : rahul supporter of destruction supported ishrat jahan yogi \n",
      "예측 요약 :  cm yogi calls cm yogi in gorakhpur attack on his death\n",
      "\n",
      "\n",
      "원문 : madhya pradesh education minister friday announced madrasas state would soon hoist tricolour daily mp muslim vikas parishad president voiced protest asking practice imposed madrasas followed even government schools added orders like issued create divisions society \n",
      "실제 요약 : mp education minister asks madrasas to hoist tricolour daily \n",
      "예측 요약 :  mp govt to introduce mp for dalits in mp\n",
      "\n",
      "\n",
      "원문 : calling gst congress leader punjab finance minister manpreet singh badal tuesday stated introduction gst ill prepared india st country introduce gst concern copy done clear concepts badal added saturday centre reduced tax rates goods services \n",
      "실제 요약 : of gst was ill prepared congress leader \n",
      "예측 요약 :  congress has to be made in scheme budget\n",
      "\n",
      "\n",
      "원문 : dubai government sunday announced launch dubai font world first developed microsoft city font available languages users office dubai crown prince bin mohammed al maktoum urged government institutions adopt font official \n",
      "실제 요약 : dubai becomes world first city with its own microsoft \n",
      "예측 요약 :  uk launches world biggest satellite\n",
      "\n",
      "\n",
      "원문 : rotomac owner vikram kothari allegedly defrauded banks crore son mouth brand pan late founder kothari vikram kothari set stationery business name rotomac real estate business also started mouth business kothari foods \n",
      "실제 요약 : who is vikram accused in cr rotomac fraud \n",
      "예측 요약 :  shares pic of son who bought by\n",
      "\n",
      "\n",
      "원문 : nearly employees jaguar land rover castle plant england move three day work week move aimed reducing production amid adverse automotive industry environment caused brexit decrease sales diesel cars expected work reduced hours least christmas \n",
      "실제 요약 : employees to adopt day work week in england \n",
      "예측 요약 :  italian plant sells for lakh to build cryptocurrency\n",
      "\n",
      "\n",
      "원문 : sachin tendulkar became first batsman till date reach run mark international cricket november tendulkar achieved feat way international career th hundred test sri lanka ahmedabad sachin ended career international runs international hundreds \n",
      "실제 요약 : sachin reached international runs during his th century \n",
      "예측 요약 :  sachin tendulkar first to hit runs in test cricket\n",
      "\n",
      "\n",
      "원문 : speaking opposition parties attempts form alliance lok sabha elections actor turned politician rajinikanth said people one imagine powerful earlier responding media queries rajinikanth said opposition thinks bjp dangerous party must \n",
      "실제 요약 : if gang up on who is powerful rajini on opp alliance \n",
      "예측 요약 :  will not be ready to win polls akhilesh on sharad pawar\n",
      "\n",
      "\n",
      "원문 : china president xi jinping asked country army neither fear death fighting opponents also urged armed forces brave overcome difficulties create powerful force always ready fight sure win chinese leader instructed armed forces strengthen combat training war winning capabilities \n",
      "실제 요약 : china prez asks army not to fear death in fighting enemies \n",
      "예측 요약 :  china major troops in china for the major dalai lama\n",
      "\n",
      "\n",
      "원문 : woman traffic constable grabbed onto rear handle speeding two wheeler ran distance stop female traffic incident took place busy road rajkot gujarat caught camera cop seen asking female rider move side road chasing \n",
      "실제 요약 : woman cop grabs speeding two stops traffic \n",
      "예측 요약 :  man tries to stand on traffic after being drunk\n",
      "\n",
      "\n",
      "원문 : researchers antarctica identified site likely holds million year old continuous ice core would help understand earth climate history oldest continuous ice core far extends back years whereas ice fragments dating far back million years found kilometres currently proposed drilling site \n",
      "실제 요약 : scientists to dig out oldest ever ice core \n",
      "예측 요약 :  scientists find antarctic ice mission into the moon\n",
      "\n",
      "\n",
      "원문 : pakistan supreme court upheld death sentence man raped murdered seven year old girl january convict imran ali appealed death penalty handed anti terrorism court claiming trial fair incident sparked outrage protests across pakistan \n",
      "실제 요약 : pak sc upholds death sentence for man who raped yr old \n",
      "예측 요약 :  pak sc upholds death penalty for rape victim\n",
      "\n",
      "\n",
      "원문 : concerned job losses telecom sector telecom secretary aruna sundararajan said government begun helping affected employees get alternative employment said objective see people try trying open new opportunities people lower levels added \n",
      "실제 요약 : govt to help workers laid off by telcos telecom secretary \n",
      "예측 요약 :  no need to be new of all good firms bajaj\n",
      "\n",
      "\n",
      "원문 : model chrissy revealed blocked twitter us president donald trump comes tweeted one likes response tweet trump slammed republicans protecting years donald trump telling lol one likes straw tweeted chrissy \n",
      "실제 요약 : donald trump blocks model on twitter \n",
      "예측 요약 :  trump calls us media for calling him\n",
      "\n",
      "\n",
      "원문 : melbourne stars regular wicketkeeper took one handed catch fielding first slip border bash match dived low right remove sydney thunder duck usually field slips shock hold one let alone one hander said \n",
      "실제 요약 : keeper fielding at slip takes one handed catch \n",
      "예측 요약 :  batsman takes one handed catch to dismiss six\n",
      "\n",
      "\n",
      "원문 : ministry external affairs friday said government unaware present location jeweller nirav modi accused defrauding punjab national bank crore government suspended nirav passport ed recommendation ministry spokesperson raveesh kumar said nirav reportedly spotted new york \n",
      "실제 요약 : unaware of nirav modi location external affairs ministry \n",
      "예측 요약 :  govt asks nirav modi to not nirav modi to\n",
      "\n",
      "\n",
      "원문 : american sprinter justin served two doping bans booed crowd receiving world championships gold defeated jamaican sprinter usain bolt international association athletics president said victory perfect script handed one year ban four year ban \n",
      "실제 요약 : crowd runner who beat usain bolt in world championships \n",
      "예측 요약 :  olympic champ bolt to be part of world cup final\n",
      "\n",
      "\n",
      "원문 : singer zayn malik girlfriend supermodel gigi hadid announced break twitter two years dating gigi incredibly meaningful relationship huge amount respect wrote zayn meanwhile gigi post read want nothing best continue support friend \n",
      "실제 요약 : zayn malik gigi hadid split after years of dating \n",
      "예측 요약 :  gigi hadid slams for gigi hadid show as india\n",
      "\n",
      "\n",
      "원문 : anonymous bidder paid lunch date investor world fourth richest person warren buffett marked th consecutive year buffett auctioned lunch raise money glide foundation helps homeless people year lunch buffett said topic limits conversation would future investments \n",
      "실제 요약 : lunch date with billionaire warren buffett sells for cr \n",
      "예측 요약 :  world richest man loses cr in day for\n",
      "\n",
      "\n",
      "원문 : sonam kapoor tweeted defence actress swara bhasker nothing latter comments pakistan wherein said pakistan failing state sonam added get fact right stop trying spread mischief hate earlier said people like troll swara opinion \n",
      "실제 요약 : my defence of swara is not for her remark on pakistan sonam \n",
      "예측 요약 :  sonam slams troll who said he is not being sonam\n",
      "\n",
      "\n",
      "원문 : delhi bjp spokesperson tajinder pal singh bagga slammed amazon canada unit selling wall decoration distorted map india map show parts jammu kashmir occupied pakistan china unacceptable remove website stop selling immediately tweeted bagga \n",
      "실제 요약 : bjp slams amazon for selling with wrong india map \n",
      "예측 요약 :  bjp cancels india concert after anti chip\n",
      "\n",
      "\n",
      "원문 : new zealand captain kane williamson equalled record test centuries scored new zealand hitting th century third test south africa hamilton year old took tests reach landmark martin previous sole record holder taken tests score number centuries \n",
      "실제 요약 : williamson equals record for most test centuries for nz \n",
      "예측 요약 :  australia fastest to hit runs in test cricket\n",
      "\n",
      "\n",
      "원문 : us registered decline cancer deaths saving lakh lives study american cancer society revealed attributed reduced smoking one biggest causes decline cancer second leading cause death us heart disease \n",
      "실제 요약 : lakh cancer deaths avoided in us in decades study \n",
      "예측 요약 :  us cancer to give cancer to cancer\n",
      "\n",
      "\n",
      "원문 : year old frenchman started journey across atlantic ocean barrel shaped orange capsule contains sleeping kitchen storage jean jacques hopes reach caribbean three months help ocean currents alone capsule made coated built resist waves \n",
      "실제 요약 : year old man sets off to cross atlantic ocean in \n",
      "예측 요약 :  yr old museum to open km to sell land\n",
      "\n",
      "\n",
      "원문 : bsf tuesday revealed pakistan army border action team involved mutilation two indian soldiers along loc includes mujahideen terrorists well would like comment formally everybody knows taken place immediately visit pakistan army chief area bsf choubey said \n",
      "실제 요약 : pakistan army bat includes mujahideen terrorists bsf \n",
      "예측 요약 :  pakistan army claims it will be killed in pakistan\n",
      "\n",
      "\n",
      "원문 : video showing pub owner delhi bagh accidentally shoot death sitting pub friends surfaced online video taken cctv footage shows man take pistol shoot head body falls ground \n",
      "실제 요약 : video shows delhi pub owner accidentally shoot himself dead \n",
      "예측 요약 :  video shows man who tried to live in mumbai\n",
      "\n",
      "\n",
      "원문 : former india batsman vvs laxman autobiography revealed ms dhoni drove team bus hotel ground first test match captain australia nagpur calling one memories laxman added could believe eyes seem care world \n",
      "실제 요약 : dhoni team bus to hotel in his first test as captain laxman \n",
      "예측 요약 :  dhoni once got me to be given to him\n",
      "\n",
      "\n",
      "원문 : following alleged suicide linkin park singer chester bennington posts wife bennington verified twitter account reportedly hacked claimed cheating husband mike one tweets read kill already proof series tweets deleted \n",
      "실제 요약 : tweet by linkin park singer wife claims she cheated on him \n",
      "예측 요약 :  singer kills journo kills her over suicide\n",
      "\n",
      "\n",
      "원문 : salman khan brother law aayush sharma loveratri co actress warina hussain fined riding without helmet debut film promotion vadodara celebrities hence understand responsibility follow traffic laws said assistant commissioner police \n",
      "실제 요약 : salman brother in law fined for riding without helmet \n",
      "예측 요약 :  salman khan to be tried to show salman reports\n",
      "\n",
      "\n",
      "원문 : eight year old girl allegedly abducted raped abandoned secluded place mandsaur madhya pradesh wednesday morning police said minor girl gone missing school previous afternoon found injuries body rushed hospital case registered \n",
      "실제 요약 : year old girl abducted and raped in madhya pradesh \n",
      "예측 요약 :  year old girl raped by men in madhya pradesh\n",
      "\n",
      "\n",
      "원문 : bombay high court directed state allot piece land four months year old fought indo pak war denied benefits meant army men man sustained bullet injuries war denied government benefits due official document authorities \n",
      "실제 요약 : give land to army man injured in war in four months hc \n",
      "예측 요약 :  hc orders of yamuna blast after non rainfall\n",
      "\n",
      "\n",
      "원문 : defending premier league champions chelsea banned celebrity ahmed club training ground image rights found taking selfies footballers accused players like david eden hazard promoted business online using chelsea players photos signed shirts among things \n",
      "실제 요약 : pl champions ban players barber from training over selfies \n",
      "예측 요약 :  player banned for throwing players on player ban on his face\n",
      "\n",
      "\n",
      "원문 : th anniversary first test triple century multan virender sehwag thanked fans twitter series tweets reference second triple ton scored march posted also years ago day got sa march mein target karne ki feel hai \n",
      "실제 요약 : did registry of this place in my name sehwag on his st \n",
      "예측 요약 :  sehwag posts sehwag on his st day of\n",
      "\n",
      "\n",
      "원문 : centre supplied one lakh plastic bullets chilli filled shells security forces jammu kashmir control violent crowds valley earlier supreme court asked centre consider effective means pellet guns check stone pelting mobs cause extensive injuries \n",
      "실제 요약 : govt sends lakh plastic bullets chilli to \n",
      "예측 요약 :  centre bans use of plastic from delhi metro\n",
      "\n",
      "\n",
      "원문 : royal challengers bangalore captain virat kohli friday became fifth batsman smash sixes indian premier league kohli achieved feat knock mumbai indians four players achieved feat chris gayle rohit sharma suresh raina ab de villiers \n",
      "실제 요약 : virat kohli becomes th batsman to hit sixes in ipl \n",
      "예측 요약 :  kohli becomes nd most expensive scorer to score tons\n",
      "\n",
      "\n"
     ]
    }
   ],
   "source": [
    "for i in range(100, 150):\n",
    "    print(\"원문 :\", seq2text(encoder_input_test[i]))\n",
    "    print(\"실제 요약 :\", seq2headlines(decoder_input_test[i]))\n",
    "    print(\"예측 요약 :\", decode_sequence(encoder_input_test[i].reshape(1, text_max_len)))\n",
    "    print(\"\\n\")"
   ]
  },
  {
   "cell_type": "markdown",
   "id": "ba4d6fa3",
   "metadata": {},
   "source": [
    "#### 요약성능 분석\n",
    "\n",
    "50개의 예측 요약 샘플 중 절반정도는 실제 용약과 비슷한 의미로 요약되었고 나머지도 의미는 다르지만 최소한 실제 요약문에 있는 핵심 단어들이 예측 요약 문장 안에 포함되어있다.\n",
    "\n",
    "많은 예측 요약문이 완벽한 문장을 구성하지 못했거나 문법이 맞지 않는 문제점을 보인다."
   ]
  },
  {
   "cell_type": "markdown",
   "id": "f84ef4ec",
   "metadata": {},
   "source": [
    "## Step 5. Summa을 이용해서 추출적 요약해보기"
   ]
  },
  {
   "cell_type": "markdown",
   "id": "29518dd8",
   "metadata": {},
   "source": [
    "### 5-1. 패키지 설치"
   ]
  },
  {
   "cell_type": "code",
   "execution_count": 46,
   "id": "93978096",
   "metadata": {},
   "outputs": [
    {
     "name": "stdout",
     "output_type": "stream",
     "text": [
      "summa                         1.2.0\r\n"
     ]
    }
   ],
   "source": [
    "! pip list | grep summa"
   ]
  },
  {
   "cell_type": "markdown",
   "id": "ec841ae4",
   "metadata": {},
   "source": [
    "### 5-2. 라이브러리 Import"
   ]
  },
  {
   "cell_type": "code",
   "execution_count": 47,
   "id": "ffb7e438",
   "metadata": {},
   "outputs": [],
   "source": [
    "import summa\n",
    "from summa.summarizer import summarize"
   ]
  },
  {
   "cell_type": "markdown",
   "id": "a8eda241",
   "metadata": {},
   "source": [
    "### 5-3. summarize 사용하여 요약하기"
   ]
  },
  {
   "cell_type": "markdown",
   "id": "c54b5dea",
   "metadata": {},
   "source": [
    "#### Summa의 summarize()의 인자로 사용되는 값\n",
    "\n",
    "- text (str) : 요약할 테스트.\n",
    "- ratio (float, optional) – 요약문에서 원본에서 선택되는 문장 비율. 0~1 사이값\n",
    "- words (int or None, optional) – 출력에 포함할 단어 수.\n",
    "  만약, ratio와 함께 두 파라미터가 모두 제공되는 경우 ratio는 무시한다.\n",
    "- split (bool, optional) – True면 문장 list / False는 조인(join)된 문자열을 반환"
   ]
  },
  {
   "cell_type": "code",
   "execution_count": 48,
   "id": "fb83c1ac",
   "metadata": {},
   "outputs": [
    {
     "name": "stdout",
     "output_type": "stream",
     "text": [
      "원문 : German multinational engineering and electronics firm Bosch has made its first investment in India in Bengaluru-based deep-tech startup SimYog. SimYog has raised about Ã¢ÂÂ¹6.3 crore in the funding round, with participation from early-stage venture capital firm Ideaspring Capital. Incubated at the Indian Institute of Science (IISc), it provides design and sign-off tools for automotive electronics.\n",
      "실제 요약 : Bosch makes its 1st India investment in IISc spinoff SimYog\n",
      "예측 요약 : \n",
      "\n",
      "\n",
      "원문 : Mumbai-headquartered talent technology startup Shortlist has raised $2 million in a Series A round of funding. The round was led by Blue Haven Initiative, with participation from Compass Venture Capital, Zephyr Acorn among others. Founded by Simon Desjardins, Paul Breloff and Matt Schnuck, Shortlist screens candidates using predictive chat-based interviews and online competency-based assessments.\n",
      "실제 요약 : Mumbai's talent tech startup Shortlist raises $2 million\n",
      "예측 요약 : Mumbai-headquartered talent technology startup Shortlist has raised $2 million in a Series A round of funding.\n",
      "\n",
      "\n",
      "원문 : MIT engineers have developed a jelly-like ingestible pill that expands inside the stomach and can be used to monitor conditions like cancers and ulcers for up to a month. The pill, made using two types of hydrogels, is embedded with a sensor that continuously tracks the stomach's temperature. It can be removed by drinking a calcium-ion solution that shrinks it.\n",
      "실제 요약 : MIT makes pill that expands in stomach to track cancer, ulcer\n",
      "예측 요약 : MIT engineers have developed a jelly-like ingestible pill that expands inside the stomach and can be used to monitor conditions like cancers and ulcers for up to a month.\n",
      "\n",
      "\n",
      "원문 : New York's Columbia University neuro-engineers claim to have developed a system that can convert human brain signals directly into speech using artificial intelligence. Researchers revealed a computer algorithm 'vocoder' was used. \"This is the same technology used by Amazon Echo and Apple Siri to give verbal responses to our questions,\" senior author of the study Nima Mesgarani said.\n",
      "실제 요약 : Brain signals converted directly into speech using AI: Study\n",
      "예측 요약 : New York's Columbia University neuro-engineers claim to have developed a system that can convert human brain signals directly into speech using artificial intelligence.\n",
      "\n",
      "\n",
      "원문 : A team of IIT-Roorkee scientists is testing a floating device that can generate electricity from flowing surface water of rivers. Instead of using water falling from height to turn turbines like in traditional dams, the prototype uses velocity of flowing river, professor RP Saini said. \"Flowing water can generate hundred times more power than wind of same velocity,\" Saini added.\n",
      "실제 요약 : IIT Roorkee tests device to generate electricity from river flow\n",
      "예측 요약 : \"Flowing water can generate hundred times more power than wind of same velocity,\" Saini added.\n",
      "\n",
      "\n",
      "원문 : A 22-year-old woman died after she fell down a flight of stairs in a New York City subway station while carrying her one-year-old baby in a pram. The station where she died didn't have elevators. Only about a quarter of New York City's 472 subway stations have elevators, making the rest inaccessible to people in wheelchairs and parents carrying prams.\n",
      "실제 요약 : US woman carrying baby dies after falling down stairs in subway\n",
      "예측 요약 : Only about a quarter of New York City's 472 subway stations have elevators, making the rest inaccessible to people in wheelchairs and parents carrying prams.\n",
      "\n",
      "\n",
      "원문 : The country's largest fuel retailer Indian Oil Corporation on Wednesday reported a 91% year-on-year decline in its net profit at Ã¢ÂÂ¹717 crore for the December quarter. The fall in profit came amid increased expenses which stood at Ã¢ÂÂ¹1.6 lakh crore and rise in foreign exchange loss. The company's domestic sales increased 2.8% from the year-ago period to 21.545 million tonnes.\n",
      "실제 요약 : Indian Oil third-quarter profit plunges 91% to Ã¢ÂÂ¹717 crore\n",
      "예측 요약 : The fall in profit came amid increased expenses which stood at Ã¢ÂÂ¹1.6 lakh crore and rise in foreign exchange loss.\n",
      "\n",
      "\n",
      "원문 : Speaking about the incident when her private pictures were leaked online, actress Hansika Motwani said, \"Certain people [said] since I anyway did bikini shoots...what's the big deal if such pictures are leaked?\" \"When I do...bikini shoot, I'm doing it out of my own choice. Here it's being circulated without...consent,\" she added. Hansika said some of the leaked pictures were morphed.\n",
      "실제 요약 : People said I did bikini shoots anyway: Hansika on private pics leak\n",
      "예측 요약 : \n",
      "\n",
      "\n",
      "원문 : Pakistan captain Sarfaraz Ahmed has said that former fast bowler Shoaib Akhtar was not criticising but personally attacking him over the four-match ban handed to him by the ICC over his 'Abey Kaale' remark on South Africa's Andile Phehlukwayo. Akhtar had said that Sarfaraz's comments were unacceptable and that he had gotten off easily with a four-match suspension.\n",
      "실제 요약 : Akhtar not criticising but personally attacking me: Sarfaraz Ahmed\n",
      "예측 요약 : \n",
      "\n",
      "\n",
      "원문 : Apple on Tuesday said its sales in China fell 27% in the December quarter, representing nearly $5 billion of lost revenue. Apple's overall revenue fell 4.5% to $84.3 billion during the quarter while profit fell slightly to $19.97 billion. Notably, the iPhone maker reported a decline in both revenue and profits for the first time in more than 10 years.\n",
      "실제 요약 : Apple loses $5 billion in revenue from China last quarter\n",
      "예측 요약 : Apple's overall revenue fell 4.5% to $84.3 billion during the quarter while profit fell slightly to $19.97 billion.\n",
      "\n",
      "\n",
      "원문 : After Congress President Rahul Gandhi's recent poll promises like Minimum Income Guarantee and women's reservation, scholar and activist Madhu Kishwar tweeted, \"Wait till Rahul Gandhi also promises free sex for every adult male for a certain number of days every year!\" Several people criticised her for the remark, with one saying, \"I can't believe you have written it. Stumped. Sad.\"\n",
      "실제 요약 : Activist says 'Wait till Rahul also promises free sex', criticised\n",
      "예측 요약 : \n",
      "\n",
      "\n",
      "원문 : After Congress chief Rahul Gandhi claimed Goa CM Manohar Parrikar told him he had \"nothing to do with the new Rafale deal,\" BJP minister Mauvin Godinho asked Rahul \"not to politicise a courtesy visit.\" Godinho added, \"It wasn't the right thing for Rahul Gandhi to do...When you come to enquire about a person's health, it should be limited to that.\" \n",
      "실제 요약 : Don't politicise visit to Parrikar, BJP minister tells Rahul\n",
      "예측 요약 : \n",
      "\n",
      "\n",
      "원문 : BJP MLA Surendra Singh on Wednesday compared Congress President Rahul Gandhi and his sister, Priyanka Gandhi, to 'Ravana' and 'Surpanakha' from Ramayana. \"Just how Ravana pushed his sister Surpanakha in the war ahead of him, Rahul Gandhi has pushed his sister (Priyanka) in the fray...We are blessed with a leader like (PM) Narendra Modi,\" Singh said.\n",
      "실제 요약 : Ravana pushed sister Surpanakha into war, Rahul did same: BJP MLA\n",
      "예측 요약 : BJP MLA Surendra Singh on Wednesday compared Congress President Rahul Gandhi and his sister, Priyanka Gandhi, to 'Ravana' and 'Surpanakha' from Ramayana.\n",
      "\n",
      "\n",
      "원문 : All India Anna Dravida Munnetra Kazhagam (AIADMK) has told party leaders who want to contest the upcoming Lok Sabha polls to pay Ã¢ÂÂ¹25,000 while submitting their application forms. The fee is applicable for a total of 40 seats in Tamil Nadu and Puducherry. AIADMK had issued a similar notification for party ticket aspirants ahead of the 2014 Lok Sabha polls. \n",
      "실제 요약 : Pay Ã¢ÂÂ¹25,000 to contest LS polls: AIADMK to ticket seekers\n",
      "예측 요약 : All India Anna Dravida Munnetra Kazhagam (AIADMK) has told party leaders who want to contest the upcoming Lok Sabha polls to pay Ã¢ÂÂ¹25,000 while submitting their application forms.\n",
      "\n",
      "\n",
      "원문 : A special CBI court in Guwahati has awarded life sentence to National Democratic Front of Bodoland founder and chief Ranjan Daimary and nine others in connection with the 2008 Assam serial blasts, which killed 88 people. Around 11 bombs went off across Assam in the attacks that took place almost a month before 26/11 Mumbai attack.\n",
      "실제 요약 : Bodo outfit head gets life term for 2008 Assam blasts that killed 88\n",
      "예측 요약 : \n",
      "\n",
      "\n",
      "원문 : The Supreme Court today allowed former Finance Minister P Chidambaram's son Karti Chidambaram to travel abroad but warned him, \"You can go wherever you want...but don't play around with the law.\" The court also directed Karti, an accused in the Aircel-Maxis case, to deposit Ã¢ÂÂ¹10 crore as surety and warned him of action in case of \"an iota of non-cooperation.\"\n",
      "실제 요약 : Don't play around with the law, SC warns Karti Chidambaram\n",
      "예측 요약 : \n",
      "\n",
      "\n",
      "원문 : Wayanad District Congress Committee member OM George has been booked for allegedly sexually assaulting a minor tribal girl for one and a half years in Kerala. George, who is currently absconding, was suspended from the primary membership of the party. Meanwhile, the girl has been shifted to a government-run shelter home. \n",
      "실제 요약 : Kerala Congress leader charged for raping girl for 1.5 years\n",
      "예측 요약 : Wayanad District Congress Committee member OM George has been booked for allegedly sexually assaulting a minor tribal girl for one and a half years in Kerala.\n",
      "\n",
      "\n",
      "원문 : Goa CM Manohar Parrikar, who is also the state Finance Minister, presented the annual budget in the state Assembly on Wednesday with a tube in his nose. Suffering from a pancreatic ailment for months, Parrikar said he was in full 'hosh' (consciousness) after Goa Congress chief Girish Chodankar said the CM should come back to 'hosh' before speaking about 'josh'. \n",
      "실제 요약 : I'm in full hosh: CM Parrikar presents Goa budget with tube in nose\n",
      "예측 요약 : Goa CM Manohar Parrikar, who is also the state Finance Minister, presented the annual budget in the state Assembly on Wednesday with a tube in his nose.\n",
      "\n",
      "\n",
      "원문 : The Delhi Police has registered an FIR against SpiceJet Chairman and MD Ajay Singh and seven other directors in a cheating case. A Delhi-based private consultant alleged that they used his services in the aviation sector, but did not pay his fees. \"The complainant has defrauded the company and is now filing frivolous complaints to extract money,\" SpiceJet said.\n",
      "실제 요약 : Delhi consultant accuses SpiceJet MD of cheating, police file FIR\n",
      "예측 요약 : The Delhi Police has registered an FIR against SpiceJet Chairman and MD Ajay Singh and seven other directors in a cheating case.\n",
      "\n",
      "\n",
      "원문 : Mahindra Group's Chairman Anand Mahindra took to Twitter to share the picture of a menu featuring a dish named 'Delicious roasted husband'. He captioned it, \"I'm certainly going to think twice about visiting this restaurant with my wife. Don't want her getting any creative ideas....!\" Reacting to his tweet, a user commented, \"Doesn't the wife roast the husband daily?\"\n",
      "실제 요약 : Anand Mahindra shares menu with dish 'delicious roasted husband'\n",
      "예측 요약 : Don't want her getting any creative ideas....!\" Reacting to his tweet, a user commented, \"Doesn't the wife roast the husband daily?\"\n",
      "\n",
      "\n",
      "원문 : Deepika Padukone has taken over as chairperson of Mumbai Academy of Moving Image (MAMI), replacing filmmaker Kiran Rao, who served as chairperson for four years. \"I believe in MAMIÃ¢ÂÂs vision and we are committed towards creating a community that cinema lovers and creators...truly deserve,Ã¢ÂÂ Deepika said. Kiran Rao reportedly stepped down as chairperson to focus on a film project.\n",
      "실제 요약 : Deepika Padukone replaces Kiran Rao as chairperson of MAMI\n",
      "예측 요약 : Deepika Padukone has taken over as chairperson of Mumbai Academy of Moving Image (MAMI), replacing filmmaker Kiran Rao, who served as chairperson for four years.\n",
      "\n",
      "\n",
      "원문 : A 14-year-old US boy's mother claims he found Apple's Group FaceTime call bug over a week before it went viral while setting up call to play Fortnite with his friends. Grant Thompson's mother said she tweeted about the bug on January 21 but didn't receive a response from Apple. FaceTime Group calls were disabled by Apple pending a software update.\n",
      "실제 요약 : 14-year-old son found FaceTime bug a week ago, claims mother\n",
      "예측 요약 : A 14-year-old US boy's mother claims he found Apple's Group FaceTime call bug over a week before it went viral while setting up call to play Fortnite with his friends.\n",
      "\n",
      "\n",
      "원문 : Facebook has been paying some users up to $20 a month since 2016 to install VPN app 'Facebook Research' to access their private data, according to a TechCrunch report. The program, that targets users aged 13-35 years through ads, reportedly accessed private messages, search history, and Amazon order history. Facebook said it'll remove the app's iOS version, the report added.\n",
      "실제 요약 : FB paid some users $20 a month to access their data: Report\n",
      "예측 요약 : Facebook has been paying some users up to $20 a month since 2016 to install VPN app 'Facebook Research' to access their private data, according to a TechCrunch report.\n",
      "\n",
      "\n",
      "원문 : Chhattisgarh Chief Minister Bhupesh Baghel has said that Maintenance of Internal Security Act (MISA) detainees are \"not freedom fighters\" and they should not get a pension. The state government on Tuesday ordered all Commissioners and District Collectors to put on hold disbursement of pension for MISA detainees from February onwards. The government also ordered their physical verification.\n",
      "실제 요약 : MISA detainees are not freedom fighters: Chhattisgarh CM\n",
      "예측 요약 : The state government on Tuesday ordered all Commissioners and District Collectors to put on hold disbursement of pension for MISA detainees from February onwards.\n",
      "\n",
      "\n",
      "원문 : After Congress President Rahul Gandhi claimed Goa CM Manohar Parrikar had told him he had nothing to do with the new Rafale deal, OSD (Officer on Special Duty) to Parrikar, Prasanna Karthik called Rahul \"a compulsive liar.\" Karthik accused Rahul of \"shamelessly\" lying about Parrikar after claiming he wanted to meet the CM to wish the latter a speedy recovery.\n",
      "실제 요약 : Rahul Gandhi is a compulsive liar, says Goa CM's OSD\n",
      "예측 요약 : \n",
      "\n",
      "\n",
      "원문 : Uttar Pradesh minister Om Prakash Rajbhar on Wednesday took a dig at the state cabinet ministers who had gone to take a holy dip in the Sangam, saying that they were washing off their sins in the river. Rajbhar alleged that corruption in the present government was four times more than what it was during the SP and BSP governments.\n",
      "실제 요약 : UP ministers took dip in Sangam to wash their sins: Rajbhar\n",
      "예측 요약 : \n",
      "\n",
      "\n",
      "원문 : After Congress leader Shashi Tharoor took a jibe at UP CM Yogi Adityanath's holy dip in the Ganga, BJP spokesman Nalin Kohli said, \"This is very unfortunate.\" Nalin added, \"An extremely educated and respected person like Tharoor always comes up with such kind of comments related to practices of the Hindu religion... Tharoor must show respect for other people too.\"\n",
      "실제 요약 : BJP calls Tharoor's jibe at Yogi's holy dip 'unfortunate'\n",
      "예측 요약 : \n",
      "\n",
      "\n",
      "원문 : The Gujarat government has asked ride-hailing services like Ola and Uber to start electric vehicle services. The state energy department, led by Gujarat's Energy Minister Saurabh Patel, is working on creating a policy to provide required infrastructure to mass-run electric vehicles. Patel said recharge stations with charged batteries will be available in a manner similar to existing petrol pumps.\n",
      "실제 요약 : Gujarat govt asks Ola, Uber to start electric taxi services\n",
      "예측 요약 : The state energy department, led by Gujarat's Energy Minister Saurabh Patel, is working on creating a policy to provide required infrastructure to mass-run electric vehicles.\n",
      "\n",
      "\n",
      "원문 : NASA's OSIRIS-REx spacecraft has sent the most detailed images of asteroid Bennu, which has a one-in-2,700 chance of hitting Earth in the next century as per NASA. The two images of the potentially Earth-bound asteroid's south pole were clicked from a distance of around 1.6 kilometres on January 17, NASA said. OSIRIS-REx has travelled around 2.2 billion km till date.\n",
      "실제 요약 : Pics of asteroid that may hit Earth in next century released\n",
      "예측 요약 : NASA's OSIRIS-REx spacecraft has sent the most detailed images of asteroid Bennu, which has a one-in-2,700 chance of hitting Earth in the next century as per NASA.\n",
      "\n",
      "\n",
      "원문 : Prime Minister Narendra Modi on Wednesday paid tribute to Mahatma Gandhi on his 71st death anniversary at his Samadhi in Rajghat, New Delhi. \"On Martyrs' Day, we gratefully remember Mahatma Gandhi and the countless freedom fighters who sacrificed their all for our Independence,\" President Ram Nath Kovind tweeted. Congress President Rahul Gandhi also paid his tribute to Mahatma Gandhi.\n",
      "실제 요약 : PM pays tribute to Mahatma Gandhi on 71st death anniversary\n",
      "예측 요약 : Congress President Rahul Gandhi also paid his tribute to Mahatma Gandhi.\n",
      "\n",
      "\n",
      "원문 : Venezuela has barred Juan GuaidÃÂ³, who declared himself the interim President, from leaving the country and froze his bank accounts. He's prohibited from leaving for having \"caused harm to peace in the republic\", President of Venezuela's Supreme Tribunal of Justice, Maikel Moreno, said. This came after the US gave GuaidÃÂ³ the right to control Venezuela's bank accounts in the US.\n",
      "실제 요약 : Venezuela bars self-declared President from leaving country\n",
      "예측 요약 : Venezuela has barred Juan GuaidÃÂ³, who declared himself the interim President, from leaving the country and froze his bank accounts.\n",
      "\n",
      "\n",
      "원문 : At least two people were killed and four others were injured on Wednesday after a grenade was thrown into a mosque in Zamboanga, Philippines, authorities said. An unidentified assailant reportedly threw a grenade when about 10 people were sleeping. This comes days after explosions at a Roman Catholic cathedral left 21 people dead and over 100 injured in the Philippines.\n",
      "실제 요약 : Grenade thrown into mosque in Philippines; 2 killed\n",
      "예측 요약 : At least two people were killed and four others were injured on Wednesday after a grenade was thrown into a mosque in Zamboanga, Philippines, authorities said.\n",
      "\n",
      "\n",
      "원문 : A serial killer in Canada has pleaded guilty to killing eight men, most of whom were linked to Toronto's Gay Village neighbourhood. Police had found the remains of seven men in planters at a property where 67-year-old Bruce McArthur worked as a landscaper. The cases allegedly involved sexual assault or forcible confinement and the bodies were dismembered.\n",
      "실제 요약 : Canada serial killer admits to murdering 8 men\n",
      "예측 요약 : A serial killer in Canada has pleaded guilty to killing eight men, most of whom were linked to Toronto's Gay Village neighbourhood.\n",
      "\n",
      "\n",
      "원문 : The Supreme Court on Wednesday asked Karti Chidambaram to deposit Ã¢ÂÂ¹10 crore with the court registry as a precondition to his travelling abroad in February and March. The apex court further asked him to appear before the Enforcement Directorate in March regarding the Aircel-Maxis and INX Media cases. Karti had sought permission to travel abroad for various tennis tournaments.\n",
      "실제 요약 : Deposit Ã¢ÂÂ¹10 crore, then go abroad: SC to Karti Chidambaram\n",
      "예측 요약 : The Supreme Court on Wednesday asked Karti Chidambaram to deposit Ã¢ÂÂ¹10 crore with the court registry as a precondition to his travelling abroad in February and March.\n",
      "\n",
      "\n",
      "원문 : Pakistani singer Rahat Fateh Ali Khan has been issued a show cause notice by the Enforcement Directorate (ED) for allegedly smuggling illegal foreign currency out of India for three years. Khan got $340,000 (Ã¢ÂÂ¹2.42 crore) through illegal means, of which he reportedly smuggled $225,000 (Ã¢ÂÂ¹1.6 crore). The ED has sought the singer's response within 45 days.\n",
      "실제 요약 : Rahat Fateh Ali Khan gets notice for smuggling currency out of India\n",
      "예측 요약 : Pakistani singer Rahat Fateh Ali Khan has been issued a show cause notice by the Enforcement Directorate (ED) for allegedly smuggling illegal foreign currency out of India for three years.\n",
      "\n",
      "\n",
      "원문 : Arka Patra, a 30-year-old groom from West Bengal, arrived for his wedding ceremony in a road roller on Sunday. \"I wanted to make my wedding ceremony memorable and unique. I could take a vintage car, but that would not be new,\" he said. Patra said his wife also agreed to his idea when he had discussed it with her.\n",
      "실제 요약 : West Bengal groom arrives in road roller for his wedding ceremony\n",
      "예측 요약 : Arka Patra, a 30-year-old groom from West Bengal, arrived for his wedding ceremony in a road roller on Sunday.\n",
      "\n",
      "\n",
      "원문 : Actress Mishti, who has featured in 'Manikarnika: The Queen of Jhansi', has said she's really upset about some of her scenes being removed from the film. \"After the movie, I didn't...speak to anyone. I just walked out of the theatre,\" she added. \"[From] a selfish perspective, as an artiste I think my character has turned into a caricature,\" said Mishti.\n",
      "실제 요약 : Upset about my 'Manikarnika' scenes being removed: Actress Mishti\n",
      "예측 요약 : Actress Mishti, who has featured in 'Manikarnika: The Queen of Jhansi', has said she's really upset about some of her scenes being removed from the film.\n",
      "\n",
      "\n",
      "원문 : Actor Kartik Aaryan, while speaking about the tweet in which he shared a 'backfie' taken by Imtiaz Ali showing PM Narendra Modi from behind, said, \"We were...worried [it would backfire].\" \"We were calling ourselves losers but agar wo galat le liya hota toh backfire ho jata,\" he added. Speaking about the PM's reply, Kartik said, \"Bahut hi...sweet sa tweet tha.\"\n",
      "실제 요약 : We were worried it'd backfire: Kartik on 'backfie' tweet on PM Modi\n",
      "예측 요약 : \n",
      "\n",
      "\n",
      "원문 : Shraddha Kapoor has been criticised over cultural appropriation for wearing a Native American headdress in a shoot by Dabboo Ratnani. The shoot is part of Ratnani's 2019 calendar launched on Monday. Calling out Shraddha, Instagram page Diet Sabya wrote, \"The 'controversy' is part of a wider effort by Native American activists to highlight the ongoing cultural genocide against indigenous peoples.\"\n",
      "실제 요약 : Shraddha criticised for cultural appropriation in Ratnani's shoot\n",
      "예측 요약 : Shraddha Kapoor has been criticised over cultural appropriation for wearing a Native American headdress in a shoot by Dabboo Ratnani.\n",
      "\n",
      "\n",
      "원문 : After Congress President Rahul Gandhi met Goa CM Manohar Parrikar, BJP MLA Michael Lobo said, \"His simplicity, his humbleness has to be really admired by all the Indians and the Goans.\" Lobo added, \"These types of leaders are required in Goa and India.\" Rahul had said he made a personal visit to Parrikar's office to wish him a speedy recovery.\n",
      "실제 요약 : Rahul's simplicity, humbleness should be admired: BJP MLA\n",
      "예측 요약 : \n",
      "\n",
      "\n",
      "원문 : MP CM Kamal Nath has ordered the reinstatement of a government school teacher suspended for an objectionable online post on Congress President Rahul Gandhi. Stating the suspension was \"contrary to his (Rahul's) way of thinking\" and \"to my way of thinking as well,\" Nath advised the teacher to read about the sacrifice of the Gandhi family to \"dispel any prejudice\".\n",
      "실제 요약 : MP CM reinstates teacher suspended for objectionable post on Rahul\n",
      "예측 요약 : MP CM Kamal Nath has ordered the reinstatement of a government school teacher suspended for an objectionable online post on Congress President Rahul Gandhi.\n",
      "\n",
      "\n",
      "원문 : Congress President Rahul Gandhi on Tuesday said, \"Friends...(Goa CM and former Defence Minister) Manohar Parrikar clearly stated he has nothing to do with the new (Rafale) deal that was orchestrated by PM Narendra Modi to benefit Anil Ambani.\" The remarks comes after Rahul's meeting with Parrikar at the CM's office, which the Congress chief claimed was a \"personal visit\".\n",
      "실제 요약 : Parrikar said he has nothing to do with new Rafale deal: Rahul\n",
      "예측 요약 : \n",
      "\n",
      "\n",
      "원문 : Congress MP Shashi Tharoor has shared an image of Uttar Pradesh CM Yogi Adityanath taking a holy dip at Kumbh Mela along with his Cabinet ministers. \"You want to keep the Ganga clean and also wash your sins in it. Everyone is naked in this Sangam. Jai Ganga Maiya ki,\" Tharoor's caption on the picture read.\n",
      "실제 요약 : You want Ganga clean & also wash sins in it: Tharoor on UP CM's pic\n",
      "예측 요약 : Jai Ganga Maiya ki,\" Tharoor's caption on the picture read.\n",
      "\n",
      "\n",
      "원문 : Three women were arrested on Tuesday in connection with the poisoning of prasad at a temple in Chikkaballapur district, Karnataka. Two women had died while several other people were hospitalised with complaints of vomiting and loose motions. The police had earlier said the temple management was not responsible as the women had brought the prasad themselves and were distributing it. \n",
      "실제 요약 : 3 women arrested in Karnataka temple prasad poisoning case\n",
      "예측 요약 : Three women were arrested on Tuesday in connection with the poisoning of prasad at a temple in Chikkaballapur district, Karnataka.\n",
      "\n",
      "\n",
      "원문 : The US intelligence's worldwide threat assessment report has stated terror groups supported by Pakistan will continue to conduct terrorist attacks in India and Afghanistan. It also warned of communal violence in India in view of the upcoming General polls. The report claimed communal clashes \"could alienate Indian Muslims and allow Islamist terrorist groups in India to expand their influence.\"\n",
      "실제 요약 : Pak-based terror groups will continue attacks in India: US intel\n",
      "예측 요약 : The report claimed communal clashes \"could alienate Indian Muslims and allow Islamist terrorist groups in India to expand their influence.\"\n",
      "\n",
      "\n",
      "원문 : Padma Vibhushan awardee and retired non-executive chairman of L&T Group, Anil Manibhai Naik, received at least Ã¢ÂÂ¹19 crore after encashing his accumulated leaves of over 50 years. The company also revealed Naik got Ã¢ÂÂ¹55.038 crore as gratuity and Ã¢ÂÂ¹1.50 crore as pension that is a part of his retirement benefit. Naik had joined L&T in 1965 as a junior engineer.\n",
      "실제 요약 : L&T's retired Chairman encashes unused leaves of 50yrs, gets Ã¢ÂÂ¹19 cr\n",
      "예측 요약 : Padma Vibhushan awardee and retired non-executive chairman of L&T Group, Anil Manibhai Naik, received at least Ã¢ÂÂ¹19 crore after encashing his accumulated leaves of over 50 years.\n",
      "\n",
      "\n",
      "원문 : A video of a mother removing black jacket of her three-year-old child on orders of security personnel before entering an event addressed by CM Sarbananda Sonowal in Assam has surfaced online. A policeman said they had been asked to not allow anyone to carry black items inside the venue. A probe has been ordered into the incident by CM Sonowal.\n",
      "실제 요약 : 3-yr-old's black jacket removed for Assam CM's event, probe ordered\n",
      "예측 요약 : A video of a mother removing black jacket of her three-year-old child on orders of security personnel before entering an event addressed by CM Sarbananda Sonowal in Assam has surfaced online.\n",
      "\n",
      "\n",
      "원문 : A two-year-old toddler was allegedly kidnapped by a woman while playing outside his house with his 11-year-old sister in Gurugram on Tuesday morning. The woman took the toddler to her home after lying to his sister that someone was calling her inside the house. Meanwhile, the police rescued the toddler within five hours and arrested the woman. \n",
      "실제 요약 : 2-yr-old kidnapped by woman in Gurugram, rescued within 5 hrs\n",
      "예측 요약 : The woman took the toddler to her home after lying to his sister that someone was calling her inside the house.\n",
      "\n",
      "\n",
      "원문 : A 53-year-old priest in Namakkal Anjaneyar temple in Tamil Nadu died after he slipped and fell down from an 11-foot-high platform after garlanding 18-foot-high Lord Anjaneyar statue, officials said. The priest was critically injured and was hospitalised on Sunday but he succumbed to his injuries on Tuesday. An official claimed such an incident has not happened in the temple's history.\n",
      "실제 요약 : Priest falls after garlanding 18-foot Lord Anjaneyar idol, dies\n",
      "예측 요약 : A 53-year-old priest in Namakkal Anjaneyar temple in Tamil Nadu died after he slipped and fell down from an 11-foot-high platform after garlanding 18-foot-high Lord Anjaneyar statue, officials said.\n",
      "\n",
      "\n",
      "원문 : The Madhya Pradesh government will open 1,000 cow shelters to provide shelter to one lakh cows by May, a senior official revealed. The official added, \"The capacity of 614 private cow shelters would be increased to 60,000.\" The scheme is the first of its kind in the state and is expected to cost Ã¢ÂÂ¹450 crore, he further said.\n",
      "실제 요약 : MP to get 1,000 cow shelters to house 1 lakh cows by May\n",
      "예측 요약 : The Madhya Pradesh government will open 1,000 cow shelters to provide shelter to one lakh cows by May, a senior official revealed.\n",
      "\n",
      "\n"
     ]
    }
   ],
   "source": [
    "# 가공되기 전의 원문을 다시 읽어와 요약\n",
    "data_Org = pd.read_csv('news_summary_more.csv', encoding='iso-8859-1')\n",
    "for i in range(100, 150):\n",
    "    print(\"원문 :\", data_Org['text'][i])\n",
    "    print(\"실제 요약 :\", data_Org['headlines'][i])\n",
    "    print(\"예측 요약 :\", summarize(data_Org['text'][i], words=16)) \n",
    "    print(\"\\n\")"
   ]
  },
  {
   "attachments": {
    "%EC%9A%94%EC%95%BD%EC%84%B1%EB%8A%A5%20%EB%B9%84%EA%B5%90%20%ED%85%8C%EC%9D%B4%EB%B8%94-2.png": {
     "image/png": "[encoded data removed]"
    }
   },
   "cell_type": "markdown",
   "id": "a712d8d2",
   "metadata": {},
   "source": [
    "#### 요약성능 분석\n",
    "\n",
    "우선, '예측 요약'이 공란으로 비워진 경우가 있다. 이는 ratio값을 작게 하가나 words수를 작게 할수록 증가한다. 아직 summarize가 좀더 개발되어야 하겠다는 생각이 든다.\n",
    "\n",
    "추출적요약은 본문 내용을 잘 나타낸다고 생각되는 한 문장을 선택하는 방법이므로 전혀 엉뚱한 요약을 하지는 않지만 성능이 그렇게 우수하지는 않은것같다.\n",
    "\n",
    "본문 내용 중 적절한 한 문장을 추출하는 방식이므로 문장구성이나 문법은 당연히 우수할 수 밖에 없다.\n",
    "\n",
    "![%EC%9A%94%EC%95%BD%EC%84%B1%EB%8A%A5%20%EB%B9%84%EA%B5%90%20%ED%85%8C%EC%9D%B4%EB%B8%94-2.png](attachment:%EC%9A%94%EC%95%BD%EC%84%B1%EB%8A%A5%20%EB%B9%84%EA%B5%90%20%ED%85%8C%EC%9D%B4%EB%B8%94-2.png)"
   ]
  },
  {
   "cell_type": "markdown",
   "id": "c19a69c1",
   "metadata": {},
   "source": [
    "## 회고\n",
    "### 이번 프로젝트에서 어려웠던 점\n",
    "\n",
    "프로젝트 진행에 특별히 어려운점은 없었으나 요약의 성능을 높일 수 있는 방법이 딱히 떠오르지 않는다.\n",
    "\n",
    "### 프로젝트를 진행하면서 알아낸 점 혹은 아직 모호한 점\n",
    "\n",
    "추상적 요약에서 좋은 결과를 보여준적이 있었다. (50개 샘플 중 2개의 샘플에서 실제요약과 예측요약이 동일) 다른조건들을 이리 저리 바꾸어 보다가 요약성능이 나빠져서 좋았던 조건으로 다시 실행시켰으나 그 좋았던 성능이 나오지 않았다. 여러번 다시 돌려봐도.... 왜 일까....\n",
    "\n",
    "### 루브릭 평가 지표를 맞추기 위해 시도한 것들\n",
    "\n",
    "1. 불용어 제외를 False로 바꾸어 보았으나 결과가 좋지 않았다.\n",
    "2. 불용어를 제외하지 않을때 \"'\" 부호를 제거하지 않도록 해 보았다. (I'm, didn't 등) 좋아지지 않았다.\n",
    "3. optimizer rmsprop를 adam으로 바꾸어 보았다. 딱히 좋아지지 않았다.\n",
    "\n",
    "### 만약에 루브릭 평가 관련 지표를 달성 하지 못했을 때, 이유에 관한 추정\n",
    "\n",
    "특별히 달성해야 하는 명확한 기준이 없어 달성하지 못했다고 생각되지 않는다.\n",
    "\n",
    "### 자기 다짐\n",
    "\n",
    "NLP 분야는 관심이 있는데 어떻게 발전시켜야 하는지 아직 감이 잡히지 않는다. 과정 중 기회 될때마다 열심히 하고 과장이 끝난 이후에도 꾸준히 공부 하겠다."
   ]
  }
 ],
 "metadata": {
  "kernelspec": {
   "display_name": "Python 3 (ipykernel)",
   "language": "python",
   "name": "python3"
  },
  "language_info": {
   "codemirror_mode": {
    "name": "ipython",
    "version": 3
   },
   "file_extension": ".py",
   "mimetype": "text/x-python",
   "name": "python",
   "nbconvert_exporter": "python",
   "pygments_lexer": "ipython3",
   "version": "3.9.7"
  }
 },
 "nbformat": 4,
 "nbformat_minor": 5
}
